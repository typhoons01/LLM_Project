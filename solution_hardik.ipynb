{
 "cells": [
  {
   "cell_type": "code",
   "execution_count": 2,
   "id": "83e84eff-63a9-47be-a44f-ff18742bf2c6",
   "metadata": {},
   "outputs": [],
   "source": [
    "import os, getpass\n",
    "\n",
    "def _set_env(var: str):\n",
    "    if not os.environ.get(var):\n",
    "        os.environ[var] = getpass.getpass(f\"{var}: \")\n",
    "\n",
    "_set_env(\"OPENAI_API_KEY\")"
   ]
  },
  {
   "cell_type": "code",
   "execution_count": 3,
   "id": "0196f26b-e3db-4f35-8a8f-10246a50323a",
   "metadata": {},
   "outputs": [],
   "source": [
    "from langchain_openai import ChatOpenAI\n",
    "from langchain_core.messages import AIMessage, HumanMessage, SystemMessage\n",
    "from langgraph.graph import MessagesState\n",
    "import requests\n",
    "import json"
   ]
  },
  {
   "cell_type": "code",
   "execution_count": 4,
   "id": "d35d0560-ae5b-42ab-ad4d-c5aa263fdc82",
   "metadata": {},
   "outputs": [
    {
     "data": {
      "text/plain": [
       "[{'function_name': 'createNewRecord',\n",
       "  'function_code': 'record* createNewRecord();'},\n",
       " {'function_name': 'createNewNode',\n",
       "  'function_code': 'LLNode* createNewNode(int value);'},\n",
       " {'function_name': 'addNodeToRecord',\n",
       "  'function_code': 'void addNodeToRecord(record* r, int value);'},\n",
       " {'function_name': 'new_bst', 'function_code': 'BST* new_bst();'},\n",
       " {'function_name': 'new_node',\n",
       "  'function_code': 'Node* new_node(record* record);'},\n",
       " {'function_name': 'insert',\n",
       "  'function_code': 'void insert(BST* bst, record* record);'},\n",
       " {'function_name': 'readData',\n",
       "  'function_code': 'BST* readData(char* fileName);'},\n",
       " {'function_name': 'traverse_in_order',\n",
       "  'function_code': 'void traverse_in_order(Node* node);'},\n",
       " {'function_name': 'mergeIn',\n",
       "  'function_code': 'LLNode* mergeIn(LLNode* head, int st1, int st2, int en2);'},\n",
       " {'function_name': 'sortLists', 'function_code': 'void sortLists(BST* bst);'},\n",
       " {'function_name': 'traverse', 'function_code': 'void traverse(Node* node);'},\n",
       " {'function_name': 'main', 'function_code': 'int main();'}]"
      ]
     },
     "execution_count": 4,
     "metadata": {},
     "output_type": "execute_result"
    }
   ],
   "source": [
    "# System message for context\n",
    "\n",
    "# Function to extract C functions from C files via ChatGPT\n",
    "def extract_functions(path: str, state: MessagesState):\n",
    "    sys_msg = SystemMessage(content=\"You are a helpful assistant tasked with extracting C functions and their code from the provided C file.\")\n",
    "    # Fetch the file content from the provided link\n",
    "    with open(path, 'r') as file:\n",
    "        file_content = file.read()\n",
    "    # Prepare the human message containing the file content\n",
    "    human_msg = HumanMessage(content=f\"Extract the different C functions from the following C file:\\n\\n{file_content}\\n\\nProvide a list of dictionaries where each dictionary contains the 'function_name' which is only the name of the function(remove any brackets or return parameters etc) and 'function_code'. Clean the response to not have anything other than the list of dictionaries in the output.\")\n",
    "\n",
    "    # Update the state with the human message\n",
    "    state[\"messages\"].append(human_msg)\n",
    "    llm_for_extraction = ChatOpenAI(model=\"gpt-3.5-turbo-1106\")\n",
    "    # Invoke the LLM using the provided system message and the state\n",
    "    extracted_functions = llm_for_extraction.invoke([sys_msg] + state[\"messages\"])\n",
    "    \n",
    "    # Parse the AI response (assuming it returns the correct format directly)\n",
    "    return extracted_functions\n",
    "\n",
    "# Example usage\n",
    "state = MessagesState(messages=[])\n",
    "link_to_file = \"data/simple-scenario/student_solution.c\"  \n",
    "# print(extract_functions(link_to_file, state).content.rstrip('```'.lstrip('```json')))\n",
    "extracted_student_functions = json.loads(extract_functions(link_to_file, state).content.rstrip('```').lstrip('```json'))\n",
    "link_to_file = \"data/simple-scenario/model_solution.c\"  # Replace with the actual link to the file file\n",
    "extracted_model_functions = json.loads(extract_functions(link_to_file, state).content.rstrip('```').lstrip('```json'))\n",
    "extracted_model_functions"
   ]
  },
  {
   "cell_type": "code",
   "execution_count": 5,
   "id": "4aea1dce",
   "metadata": {},
   "outputs": [
    {
     "data": {
      "text/plain": [
       "[{'function_name': 'createNewRecord',\n",
       "  'function_code': 'record* createNewRecord();'},\n",
       " {'function_name': 'createNewNode',\n",
       "  'function_code': 'LLNode* createNewNode(int value);'},\n",
       " {'function_name': 'addNodeToRecord',\n",
       "  'function_code': 'void addNodeToRecord(record* r, int value);'},\n",
       " {'function_name': 'new_bst', 'function_code': 'BST* new_bst();'},\n",
       " {'function_name': 'new_node',\n",
       "  'function_code': 'Node* new_node(record* record);'},\n",
       " {'function_name': 'insert',\n",
       "  'function_code': 'void insert(BST* bst, record* record);'},\n",
       " {'function_name': 'readData',\n",
       "  'function_code': 'BST* readData(char* fileName);'},\n",
       " {'function_name': 'traverse_in_order',\n",
       "  'function_code': 'void traverse_in_order(Node* node);'},\n",
       " {'function_name': 'mergeIn',\n",
       "  'function_code': 'LLNode* mergeIn(LLNode* head, int st1, int st2, int en2);'},\n",
       " {'function_name': 'sortLists', 'function_code': 'void sortLists(BST* bst);'},\n",
       " {'function_name': 'traverse', 'function_code': 'void traverse(Node* node);'},\n",
       " {'function_name': 'main', 'function_code': 'int main();'}]"
      ]
     },
     "execution_count": 5,
     "metadata": {},
     "output_type": "execute_result"
    }
   ],
   "source": [
    "extracted_model_functions"
   ]
  },
  {
   "cell_type": "code",
   "execution_count": 6,
   "id": "7d54de89-00a5-4dd5-a10c-c407ff989992",
   "metadata": {},
   "outputs": [
    {
     "data": {
      "text/plain": [
       "[{'function_name': 'readData',\n",
       "  'function_rubric': 'Accurately reads the input file file1.txt and retrieves the number of records and corresponding data (5 marks).'},\n",
       " {'function_name': 'readData',\n",
       "  'function_rubric': 'Correctly constructs a Binary Search Tree (BST) where each node stores a linked list, using the first integer in each line as the key (5 marks).'},\n",
       " {'function_name': 'sortLists',\n",
       "  'function_rubric': 'Implements a sorting algorithm of choice to sort each linked list starting from the second node without modifying the first node (5 marks).'},\n",
       " {'function_name': 'sortLists',\n",
       "  'function_rubric': 'Correctly sorts all linked lists stored in the BST nodes as per specifications (5 marks).'},\n",
       " {'function_name': 'traverse',\n",
       "  'function_rubric': 'Implements an in-order traversal of the BST to visit each node in the correct order (5 marks).'},\n",
       " {'function_name': 'traverse',\n",
       "  'function_rubric': 'Traversal outputs each linked list to file2.txt, with one linked list per line as described in the sample (5 marks).'},\n",
       " {'function_name': 'main',\n",
       "  'function_rubric': 'Drives the program in the required sequence: reading input, constructing the BST, sorting the lists, performing in-order traversal, and generating output (6 marks).'}]"
      ]
     },
     "execution_count": 6,
     "metadata": {},
     "output_type": "execute_result"
    }
   ],
   "source": [
    "# System message for context\n",
    "\n",
    "\n",
    "# Function to extract C functions from file content via ChatGPT\n",
    "def extract_rubric(path: str, state: MessagesState):\n",
    "    sys_msg = SystemMessage(content=\"You are a helpful assistant tasked with extracting rubric for each C function from the provided file content.\")\n",
    "    # Fetch the file content from the provided link\n",
    "    with open(path, 'r') as file:\n",
    "        file_content = file.read()\n",
    "    \n",
    "    # Prepare the human message containing the file content\n",
    "    human_msg = HumanMessage(content=f\"The following file contains rubric details for a C submission:\\n\\n{file_content}\\n\\nPlease extract the rubric details relevant to each of the mentioned functions.\\n\\nProvide a list of dictionaries where each dictionary contains the 'function_name' which is only the name of the function (remove any brackets or return parameters etc) and 'function_rubric'. Clean the response to not have anything other than the list of dictionaries in the output.\")\n",
    "\n",
    "    # Update the state with the human message\n",
    "    state[\"messages\"].append(human_msg)\n",
    "    llm_for_rubric_extraction = ChatOpenAI(model=\"gpt-3.5-turbo-1106\")\n",
    "    # Invoke the LLM using the provided system message and the state\n",
    "    extracted_rubric = llm_for_rubric_extraction.invoke([sys_msg] + state[\"messages\"])\n",
    "    \n",
    "    # Parse the AI response (assuming it returns the correct format directly)\n",
    "    return extracted_rubric\n",
    "\n",
    "# Example usage\n",
    "state = MessagesState(messages=[])\n",
    "link_to_file = \"data/simple-scenario/rubric.md\"  # Replace with the mdual link to the file file\n",
    "extracted_rubric = json.loads(extract_rubric(link_to_file, state).content.rstrip('```').lstrip('```json'))\n",
    "\n",
    "extracted_rubric"
   ]
  },
  {
   "cell_type": "code",
   "execution_count": 7,
   "id": "10f09623-ed29-48af-adf9-7c566c7f1725",
   "metadata": {},
   "outputs": [
    {
     "data": {
      "text/plain": [
       "[\"Sure, I can help you with that. Let's evaluate the student's code against the provided rubric.\\n\\nRubric for the function createNewList:\\n\\n1. Correct memory allocation and initialization of the list struct (out of 3 points)\\n2. Proper initialization of the count and head members (out of 3 points)\\n3. Proper return of the newly created list (out of 2 points)\\n4. Code style and formatting (out of 2 points)\\n\\nNow, let's evaluate the student's submission:\\n\\n1. Correct memory allocation and initialization of the list struct:\\n   The student correctly allocates memory for the list struct using malloc. However, the student does not cast the malloc return value to the proper type (LIST). This can lead to potential issues and should be corrected.\\n   Score: 2/3\\n   Improvement: Cast the malloc return value to the proper type (LIST) to ensure type safety.\\n\\n2. Proper initialization of the count and head members:\\n   The student correctly initializes the count to 0 and the head to NULL. This meets the requirements of the rubric.\\n   Score: 3/3\\n\\n3. Proper return of the newly created list:\\n   The student correctly returns the newly created list.\\n   Score: 2/2\\n\\n4. Code style and formatting:\\n   The code is concise and easy to read. However, it would be better to include comments to explain the purpose of the function and its components.\\n   Score: 1/2\\n   Improvement: Add comments to explain the purpose of the function and its components.\\n\\nOverall, the student's code meets most of the criteria but has some room for improvement in terms of type safety and code documentation.\\n\\nFinal evaluation:\\n1. Correct memory allocation and initialization of the list struct: 2/3\\n2. Proper initialization of the count and head members: 3/3\\n3. Proper return of the newly created list: 2/2\\n4. Code style and formatting: 1/2\",\n",
       " \"Sure, let's evaluate the student's code against the rubric.\\n\\nRubric for NewLLNode function:\\n\\n1. Correct memory allocation and initialization of the new node (2 marks)\\n2. Proper handling of the node's value (1 mark)\\n3. Proper handling of the node's next pointer (1 mark)\\n4. Proper return of the new node (1 mark)\\n\\nEvaluation:\\n\\n1. Correct memory allocation and initialization of the new node:\\n   The student correctly allocates memory for the new node and initializes it with the provided value. The use of `malloc` and `sizeof` is appropriate. However, it would be better to include error handling to check if memory allocation was successful.\\n   Score: 1.5/2\\n   Comments: The student correctly allocates memory and initializes the new node, but could improve by adding error handling for malloc failure.\\n\\n2. Proper handling of the node's value:\\n   The student correctly sets the element of the new node with the provided value.\\n   Score: 1/1\\n   Comments: The student correctly handles the value of the new node.\\n\\n3. Proper handling of the node's next pointer:\\n   The student correctly sets the next pointer of the new node to NULL.\\n   Score: 1/1\\n   Comments: The student properly handles the next pointer of the new node.\\n\\n4. Proper return of the new node:\\n   The student correctly returns the new node.\\n   Score: 1/1\\n   Comments: The student properly returns the new node.\\n\\nOverall, the student's code meets most of the criteria in the rubric. However, error handling for memory allocation could be added for a more robust implementation. Well done!\",\n",
       " \"Based on the provided rubric, the evaluation of the student's code is as follows:\\n\\n1. Correctness:\\n   - The code correctly handles the case when the list is empty and adds the node accordingly. It also handles the case when the search element is not found and prints an error message.\\n   - However, the logic for inserting the new node after the specified element is incorrect. The student's code does not correctly adjust the pointers to insert the new node.\\n   - Score: 2/4\\n   - Comments: The code partially meets the correctness criteria by handling some cases correctly, but fails to correctly insert the new node after the specified element.\\n\\n2. Readability:\\n   - The code uses meaningful variable names and follows a clear structure with indentation.\\n   - However, the lack of comments and documentation reduces the readability of the code.\\n   - Score: 2/2\\n   - Comments: The code is relatively easy to read and follow due to good variable naming and indentation, but it would benefit from added comments for better understanding of the logic.\\n\\n3. Efficiency:\\n   - The code uses a while loop to traverse the linked list, which is an efficient approach for searching for the specified element.\\n   - However, the code does not optimize the insertion of the new node after the specified element, resulting in potential inefficiencies.\\n   - Score: 1.5/2\\n   - Comments: The code efficiently searches for the specified element, but the insertion logic is not optimal, leading to potential inefficiencies.\\n\\nIn summary, the student's code demonstrates partial correctness in handling certain cases, but the logic for inserting the new node after the specified element is incorrect. The code is relatively readable, but lacks comments for clarity. Additionally, the code uses an efficient approach for searching but fails to optimize the insertion process. Therefore, the student's code requires significant improvement in the insertion logic and could benefit from adding comments for better understanding.\",\n",
       " \"Based on the provided rubric, let's evaluate the student's code.\\n\\n1. Correctness: The function correctly inserts a node at the beginning of the list. However, the student's code assumes that the list stores integer elements, which is a constraint not mentioned in the rubric. The function should be able to handle any type of element.\\n   Score: 3/5\\n   Comment: The code correctly handles inserting a node at the beginning of the list. However, it would be more flexible and reusable if it didn't assume the data type of the elements in the list.\\n\\n2. Error Handling: The student's code does not include any error handling for the case when the input list or node is NULL. It also assumes the list is non-circular.\\n   Score: 2/5\\n   Comment: The code does not include any error handling for cases when the input list or node is NULL. It would be more robust to include checks for NULL pointers to avoid potential crashes.\\n\\n3. Readability and Comments: The code lacks comments and descriptive variable names, making it less readable and harder to understand.\\n   Score: 2/5\\n   Comment: The code would benefit from comments and more descriptive variable names to improve readability and aid understanding, especially for someone else reading or maintaining the code.\\n\\nIn summary, the student's code performs the basic functionality of inserting a node at the beginning of the list, but it has limitations in terms of assumptions about the data type of elements in the list, error handling, and readability. It would be beneficial for the student to address these areas for improvement.\",\n",
       " \"Sure, let's evaluate the student's code based on the provided rubric.\\n\\nCriterion 1: Correct memory allocation and initialization\\n- The student's code correctly allocates memory for a new BST structure using malloc and initializes the node pointer to NULL.\\n\\nScore: 3\\nComments: The student correctly allocates memory and initializes the node pointer as required. No errors in memory allocation and initialization.\\n\\nOverall, the student's code meets the requirements and earns a score of 3. Well done!\",\n",
       " \"Based on the provided rubric, here is the evaluation for the student's code:\\n\\n1. Correctness: 2/4\\nThe student's code correctly allocates memory for a new BSTNODE and initializes its value with the head of the provided LIST. However, the student's code does not handle the case where the input LIST is empty (l->head is NULL). This would lead to a segmentation fault if passed an empty list.\\n\\n2. Adherence to Best Practices: 3/3\\nThe student's code follows best practices by appropriately using malloc to allocate memory for the new BSTNODE and setting its left and right pointers to NULL.\\n\\n3. Code Readability and Formatting: 2/3\\nThe code is relatively readable, but there is a lack of comments and it would benefit from more descriptive variable names to improve readability and maintainability.\\n\\n4. Error Handling: 0/3\\nThe student's code lacks error handling for the case when the malloc call fails to allocate memory. Additionally, as mentioned earlier, there is no handling for an empty input LIST.\\n\\nOverall, the student's submission exhibits some understanding of creating a new BSTNODE, but it is crucial to address error handling and edge cases to ensure the reliability and robustness of the code. Furthermore, improving code readability and adding comments would enhance the maintainability of the code.\",\n",
       " \"Based on the provided rubric, I will evaluate the student's submission against the model solution for the function creation.\\n\\n1. Correctness:\\nThe student's code contains several errors. The use of undeclared variables like arrsize, incorrect function calls, and redeclaration of variables 'a' and 'b' are present. Additionally, the logic for creating and manipulating lists and nodes is flawed. The code does not follow the correct approach for creating a BST from file input. As a result, the correctness score for this criterion is 1 out of 4.\\n\\n2. Adherence to Best Practices:\\nThe student's code does not adhere to best practices. It contains undeclared variables, redeclaration of variables, incorrect function calls, and improper memory management. The use of meaningful variable names and proper indentation is lacking. The code does not follow standard C coding conventions. Therefore, the score for this criterion is 1 out of 4.\\n\\n3. Code Readability and Organization:\\nThe code lacks proper organization and readability. It is difficult to follow the logic due to the presence of multiple errors and improper structuring of the code. The absence of comments further reduces the code's readability. Hence, the score for this criterion is 1 out of 4.\\n\\n4. Error Handling:\\nThe student's code does not include any error handling mechanisms. There are no checks for file open failures, memory allocation failures, or input validation. As a result, the score for this criterion is 0 out of 4.\\n\\nIn conclusion, the student's submission scores low in all the evaluation criteria due to the presence of numerous errors and lack of adherence to best practices. The code requires significant revisions to align with the model solution and demonstrate a better understanding of the concepts.\",\n",
       " 'Based on the provided rubric, I will evaluate the student\\'s submission.\\n\\nCriterion:\\n1. Correctly constructs a Binary Search Tree (BST) where each node stores a linked list, using the first integer in each line as the key (5 marks).\\n\\nEvaluation:\\nThe student\\'s submission does not correctly construct a Binary Search Tree (BST) where each node stores a linked list. The code attempts to read the size from the file but does not demonstrate the construction of a BST with linked lists.\\n\\nScore:\\n0 out of 5\\n\\nComments:\\n1. The function definition should return a pointer to a BST, not the BST itself. Change the return type of the function to \"BST*\" instead of \"BST\".\\n2. The code should read the data from the file and construct the BST with linked lists based on the first integer in each line. The provided code only reads the size and calls a non-existent function \"creation\".\\n3. The student should implement logic to read the data from the file and construct the BST with linked lists based on the specified key.\\n\\nSuggestions for improvement:\\n1. Modify the function signature to return a pointer to a BST: \"BST* readData(char* filename)\".\\n2. Implement logic to read the data from the file, parse the first integer in each line as the key, and construct the BST with linked lists accordingly.\\n\\nOverall, the student\\'s submission needs significant improvement to meet the specified criteria.',\n",
       " \"Sure, let's evaluate the student's code against the provided rubric.\\n\\n1. **Function Name and Parameters**\\n   - The function name is correct: 2/2\\n\\n2. **Use of Pointers**\\n   - The student has used pointers correctly: 2/2\\n\\n3. **Base Case for Recursion**\\n   - The student has correctly implemented the base case for the recursive function: 2/2\\n\\n4. **In-order Traversal Logic**\\n   - There are errors in the in-order traversal logic. The student is using an undefined struct `LLNODE` and the traversal logic is incorrect. The `fprintf` statement is using `root->value` instead of `current->value`. Additionally, the while loop is not correctly traversing the linked list: 0/2\\n\\n5. **File Handling**\\n   - The student correctly uses the `FILE*` parameter for file handling: 2/2\\n\\n6. **Overall Code Structure and Readability**\\n   - The code lacks proper indentation and the logic is not correctly implemented. This affects the overall readability and structure of the code: 0/2\\n\\nOverall, the code shows some understanding of recursion and file handling, but there are significant errors in the in-order traversal logic and code structure. The student should review the correct implementation of in-order traversal and pay attention to variable usage and logic implementation. Additionally, improving code structure and readability is essential for better understanding and maintainability.\",\n",
       " 'The student\\'s submission can be evaluated as follows based on the provided rubric:\\n\\n1. Traversal outputs each linked list to file2.txt, with one linked list per line as described in the sample (5 marks):\\n   - The student\\'s code attempts to open \"file2.txt\" in write mode and calls the inOrder function with incorrect parameters. However, the inOrder function is not provided in the student\\'s submission. Additionally, the structure of the BST and BSTNODE is not clear from the provided code, so it is unclear how the traversal is supposed to be implemented.\\n\\nBased on the provided rubric, the student\\'s submission does not meet the criteria for the traversal. The inOrder function is missing, and the code does not demonstrate the expected traversal behavior. Therefore, the submission would score 0 out of 5 for this criterion.\\n\\nSuggestions for improvement:\\n- The student should provide the implementation of the inOrder function to perform the traversal of the BST.\\n- The parameters of the traverse function should be clarified, and the code should be structured to clearly demonstrate the traversal of the linked list and output to \"file2.txt\" as described in the rubric.']"
      ]
     },
     "execution_count": 7,
     "metadata": {},
     "output_type": "execute_result"
    }
   ],
   "source": [
    "\n",
    "# Function to evaluate student code based on model code and rubric\n",
    "def evaluate_student_code(student_code: str, model_code: str, rubric_content: str, state: MessagesState, function_name: str):\n",
    "    sys_msg = SystemMessage(content=\"You are a helpful assistant tasked with evaluating a student's C code against a model solution based on a provided rubric. You will give numeric scores for each criterion and provide detailed comments, including correctness, errors, and suggestions for improvement.\")\n",
    "\n",
    "    # Prepare the human message containing the student code, model code, and rubric\n",
    "    human_msg = HumanMessage(content=f\"Here is a student's C code submission:\\n\\n{student_code}\\n\\nAnd here is the correct model solution:\\n\\n{model_code}\\n\\nUsing the following rubric:\\n\\n{rubric_content} for the function {function_name}\\n\\nEvaluate the student's submission, providing a numeric score for each criterion from the rubric. Along with the score, give detailed comments on the correctness, errors, and suggestions for improvement. Provide only one evaluation, which must abide by the marks breakdown given in the rubrik. Do not provide a total score.\")\n",
    "\n",
    "    # Update the state with the human message\n",
    "    state[\"messages\"].append(human_msg)\n",
    "    llm_for_evaluation = ChatOpenAI(model=\"gpt-3.5-turbo-1106\")\n",
    "    # Invoke the LLM using the system message and the state\n",
    "    evaluation_response = llm_for_evaluation.invoke([sys_msg] + state[\"messages\"])\n",
    "    \n",
    "    # Parse the AI response (assuming it returns the correct format directly)\n",
    "    return evaluation_response\n",
    "\n",
    "def initial_evaluator(extracted_student_functions, extracted_model_functions, extracted_rubric):\n",
    "    evaluations=[]\n",
    "    for i in extracted_student_functions:\n",
    "        rubric=''\n",
    "        model=''\n",
    "        for function_dict in extracted_model_functions:\n",
    "            if function_dict.get('function_name') == i['function_name']:\n",
    "                model=function_dict['function_code']\n",
    "        for function_dict in extracted_rubric:\n",
    "            if function_dict.get('function_name') == i['function_name']:\n",
    "                rubric=function_dict['function_rubric']\n",
    "        state = MessagesState(messages=[])\n",
    "        evaluations.append(evaluate_student_code(i['function_code'], model, rubric, state, i['function_name']).content)\n",
    "    return evaluations\n",
    "\n",
    "evaluations=initial_evaluator(extracted_student_functions, extracted_model_functions, extracted_rubric)\n",
    "evaluations"
   ]
  },
  {
   "cell_type": "code",
   "execution_count": 8,
   "id": "2b004b48-4e50-4b48-8614-f0970245e040",
   "metadata": {},
   "outputs": [
    {
     "data": {
      "text/plain": [
       "['Function: createNewList\\n\\n1. Functionality:\\nThe student\\'s code correctly allocates memory for a new list and initializes the count and head pointers. The functionality seems correct. \\nScore: 3\\n\\n2. Memory Management:\\nThe student correctly allocates memory for the new list using malloc. However, it\\'s essential to check if the malloc call returns a non-NULL pointer to ensure successful memory allocation.\\nScore: 2\\n\\n3. Naming Conventions:\\nThe variable name \"myList\" is clear and descriptive, following good naming conventions.\\nScore: 3\\n\\nOverall, the student\\'s code demonstrates a good understanding of creating a new list in C. However, adding a check for the return value of malloc and error handling would improve the robustness of the code. \\n\\nTotal Score: 8',\n",
       " 'Based on the provided code and the given rubric, here is the evaluation for the student\\'s NewLLNode function:\\n\\n1. Functionality:\\nThe student\\'s code correctly creates a new linked list node with the given value and initializes the next pointer to NULL. The functionality appears to be correct.\\nScore: 3\\n\\n2. Memory Management:\\nThe student correctly allocates memory for the new linked list node using malloc. However, as mentioned in the previous evaluation, it\\'s essential to check if the malloc call returns a non-NULL pointer to ensure successful memory allocation. This check is missing in the provided code.\\nScore: 2\\n\\n3. Naming Conventions:\\nThe function name \"NewLLNode\" is clear and descriptive, following good naming conventions. However, the variable name \"myNode\" could be improved to better reflect its purpose, such as \"newNode\" or \"createdNode.\"\\nScore: 2\\n\\nOverall, the student\\'s code demonstrates a good understanding of creating a new linked list node in C. However, adding a check for the return value of malloc and error handling would significantly improve the robustness of the code. Additionally, refining the variable name for better clarity and adherence to naming conventions would enhance the code\\'s readability.\\n\\nTotal Score: 7\\n\\nIn summary, the student\\'s code successfully creates a new linked list node and demonstrates a good understanding of memory allocation. However, the lack of error handling and the suboptimal variable naming slightly impact the overall score. Consider emphasizing the importance of error checking and suggesting improved variable naming for future submissions.',\n",
       " 'Function: InsertAfter\\n\\n1. Functionality:\\n   The student\\'s code correctly attempts to insert a new node after the node with the given search element in the provided linked list. The functionality appears to be correct, taking into account the conditions for an empty list, the search element not being found, and inserting the new node in the appropriate position. However, there is a logical error in the code. When inserting the new node in the middle of the list, the previous node\\'s next pointer should be updated to point to the new node, but the student\\'s code misses this step. Therefore, the functionality score is reduced due to this omission.\\n   Score: 2\\n\\n2. Memory Management:\\n   The student\\'s code does not involve memory allocation, as it focuses on the manipulation of existing linked list nodes. Therefore, this criterion is not applicable to the InsertAfter function.\\n   Score: N/A\\n\\n3. Naming Conventions:\\n   The variable names used in the function are relatively clear and descriptive, following good naming conventions. However, the parameter names \"n1\" and \"l1\" could be improved to better reflect their purposes, such as \"newNode\" and \"list,\" respectively, for enhanced clarity and adherence to naming conventions.\\n   Score: 2\\n\\nOverall, the student\\'s code demonstrates a good understanding of inserting a new node after a specific element in a linked list. However, there is a logical error in the code that needs to be addressed to ensure the correct insertion of the new node. Additionally, refining the parameter names for better clarity and adherence to naming conventions would enhance the code\\'s readability.\\n\\nTotal Score: 4\\n\\nIn summary, the student\\'s code successfully attempts to insert a new node after a specific element in a linked list. However, the logical error in the code and the suboptimal parameter naming slightly impact the overall score. Consider emphasizing the importance of addressing logical errors and suggesting improved parameter naming for future submissions.',\n",
       " 'Function: InsertFirst\\n\\n1. Functionality:\\n   The student\\'s code attempts to insert a new node at the beginning of the provided linked list. However, there is a logical error in the code. When inserting a new node at the beginning of the list, the head pointer of the list should be updated to point to the new node. The student\\'s code misses this crucial step, leading to incorrect functionality. Therefore, the functionality score is reduced due to this omission.\\n   Score: 2\\n\\n2. Memory Management:\\n   The student\\'s code does not involve memory allocation, as it focuses on the manipulation of existing linked list nodes. Therefore, this criterion is not applicable to the InsertFirst function.\\n   Score: N/A\\n\\n3. Naming Conventions:\\n   The variable names used in the function are relatively clear and descriptive, following good naming conventions. However, the parameter name \"n\" could be improved to better reflect its purpose, such as \"newNode\" for enhanced clarity and adherence to naming conventions.\\n   Score: 2\\n\\nOverall, the student\\'s code attempts to insert a new node at the beginning of a linked list, but there is a logical error in the code that needs to be addressed to ensure the correct insertion of the new node. Additionally, refining the parameter naming for better clarity and adherence to naming conventions would enhance the code\\'s readability.\\n\\nTotal Score: 4\\n\\nIn summary, the student\\'s code attempts to insert a new node at the beginning of a linked list, but the logical error in the code and the suboptimal parameter naming slightly impact the overall score. Consider emphasizing the importance of addressing logical errors and suggesting improved parameter naming for future submissions.',\n",
       " 'Based on the provided rubric, here is the evaluation for the student\\'s NewBST function:\\n\\n1. Functionality:\\n   The student\\'s code correctly allocates memory for a new binary search tree and initializes the node pointer to NULL. The functionality seems correct.\\n   Score: 3\\n\\n2. Memory Management:\\n   The student correctly allocates memory for the new binary search tree using malloc. However, it\\'s essential to check if the malloc call returns a non-NULL pointer to ensure successful memory allocation. This check is missing in the provided code, similar to the previous submissions.\\n   Score: 2\\n\\n3. Naming Conventions:\\n   The variable name \"bst\" is clear and descriptive, following good naming conventions.\\n   Score: 3\\n\\nOverall, the student\\'s code demonstrates a good understanding of creating a new binary search tree in C. However, adding a check for the return value of malloc and error handling would improve the robustness of the code, similar to the previous submissions.\\n\\nTotal Score: 8\\n\\nIn summary, the student\\'s code successfully creates a new binary search tree and demonstrates a good understanding of memory allocation. However, the lack of error handling slightly impacts the overall score. Consider emphasizing the importance of error checking and suggesting improved variable naming for future submissions.',\n",
       " 'Based on the provided rubric, here is the evaluation for the student\\'s NewBSTNode function:\\n\\n1. Functionality:\\n   The student\\'s code correctly creates a new binary search tree node with the given value and initializes the left and right pointers to NULL. The functionality appears to be correct.\\n   Score: 3\\n\\n2. Memory Management:\\n   The student correctly allocates memory for the new binary search tree node using malloc. However, similar to previous submissions, it\\'s essential to check if the malloc call returns a non-NULL pointer to ensure successful memory allocation. This check is missing in the provided code.\\n   Score: 2\\n\\n3. Naming Conventions:\\n   The function name \"NewBSTNode\" is clear and descriptive, following good naming conventions. However, the variable name \"node\" could be improved to better reflect its purpose, such as \"newNode\" or \"createdNode\" for enhanced clarity and adherence to naming conventions.\\n   Score: 2\\n\\nOverall, the student\\'s code demonstrates a good understanding of creating a new binary search tree node in C. However, adding a check for the return value of malloc and error handling would significantly improve the robustness of the code, similar to the previous submissions. Additionally, refining the variable name for better clarity and adherence to naming conventions would enhance the code\\'s readability.\\n\\nTotal Score: 7\\n\\nIn summary, the student\\'s code successfully creates a new binary search tree node and demonstrates a good understanding of memory allocation. However, the lack of error handling and the suboptimal variable naming slightly impact the overall score. Consider emphasizing the importance of error checking and suggesting improved variable naming for future submissions.',\n",
       " 'Based on the provided code and the given rubric, here is the evaluation for the student\\'s creation function:\\n\\n1. Functionality:\\n   The student\\'s code attempts to read values from a file and create linked lists and binary search trees based on certain conditions. However, there are several logical errors and missing functionalities in the code. The code attempts to create a new linked list and binary search tree nodes, but the integration of these nodes into lists and trees lacks proper handling and logic, leading to incorrect functionality. Additionally, there are multiple instances of re-declaring variables, such as \"a\" and \"b,\" which would lead to compilation errors. The functionality score is significantly reduced due to these issues.\\n   Score: 1\\n\\n2. Memory Management:\\n   The student\\'s code involves memory allocation for linked list and binary search tree nodes using functions like createNewList, NewLLNode, and NewBSTNode. However, there are no checks for the return value of malloc to ensure successful memory allocation. This omission poses a risk of undefined behavior if memory allocation fails, which impacts the robustness of the code.\\n   Score: 1\\n\\n3. Naming Conventions:\\n   The variable names used in the function, such as \"l1,\" \"n,\" and \"node,\" are relatively clear and descriptive, following good naming conventions. However, there are multiple instances of re-declaration of variables with the same name, which is a syntax error.\\n   Score: 2\\n\\nOverall, the student\\'s code attempts to perform complex operations involving linked lists and binary search trees based on file input. However, there are significant logical errors, missing functionalities, memory management issues, and syntax errors that need to be addressed. Emphasizing the importance of error checking, addressing logical errors, and suggesting improved variable naming would significantly enhance the code\\'s functionality, robustness, and readability.\\n\\nTotal Score for creation function: 4\\n\\nIn summary, the student\\'s code requires substantial revisions to achieve the expected functionality, memory management, and adherence to naming conventions. Consider providing detailed guidance on addressing logical errors, memory management, and variable naming for future submissions.',\n",
       " \"Based on the provided student's C code for the `readData` function and the given rubric, here is the evaluation:\\n\\n1. **Correctly constructs a Binary Search Tree (BST) where each node stores a linked list, using the first integer in each line as the key (5 marks)**:\\n   - Score: 0\\n   - Comments: \\n     - The provided code is incomplete and contains several critical issues that prevent it from correctly constructing a Binary Search Tree (BST) with linked lists at each node.\\n     - The code attempts to open a file and read the first integer as the size, but it lacks the logic to construct the BST using this size and the subsequent data.\\n     - The code does not include the logic for constructing the BST nodes and linking them based on the read data.\\n     - The return type of the function should be `BST*` instead of `BST`, and the function should return a pointer to the constructed BST.\\n\\n2. **Memory Management**:\\n   - Score: 0\\n   - Comments:\\n     - The code lacks proper memory allocation for the BST and its nodes.\\n     - There are no checks for the return value of `malloc` to ensure successful memory allocation.\\n\\n3. **Naming Conventions**:\\n   - Score: 3\\n   - Comments:\\n     - The variable name `Tree` is clear and descriptive, following good naming conventions.\\n\\nOverall, the provided code for the `readData` function is incomplete and does not fulfill the requirements for constructing a Binary Search Tree (BST) with linked lists at each node. It lacks the necessary logic for creating the BST using the read data and also lacks proper memory management. The naming convention for the variable is appropriate.\\n\\nTotal Score for `readData` function: 3\\n\\nGiven the evaluation, the student should focus on implementing the logic to construct the BST using the read data from the file and ensure proper memory management by allocating memory for the BST and its nodes. Additionally, error handling should be included to check the return value of `malloc` for successful memory allocation.\",\n",
       " 'Function: inOrder\\n\\n1. Functionality:\\n   The student\\'s code attempts to perform an in-order traversal of a binary search tree (BST) and write the values to a file. However, there are multiple issues in the functionality of the code:\\n   - The traversal logic is incorrect as it attempts to use a linked list node (`LLNODE`) instead of traversing the BST nodes properly.\\n   - The while loop to traverse the tree is using the incorrect variable (`current`) and does not correctly traverse the tree in an in-order manner.\\n   - The fprintf statement uses `root->value` instead of `current->value` to write the values to the file.\\n\\n   Score: 1\\n\\n   Comments:\\n   - The in-order traversal logic needs to be corrected to properly traverse the BST and write the values to the file.\\n   - The student should review the logic for in-order traversal and ensure that the correct pointers and variables are used to traverse the BST nodes and write the values to the file.\\n\\n2. Memory Management:\\n   The student\\'s code does not involve memory allocation, as it focuses on the traversal and writing of values to a file. Therefore, this criterion is not applicable to the inOrder function.\\n\\n   Score: N/A\\n\\n3. Naming Conventions:\\n   The function name \"inOrder\" is clear and descriptive, following good naming conventions. However, the variable name \"current\" could be improved to better reflect its purpose, such as \"currentNode\" for enhanced clarity and adherence to naming conventions.\\n\\n   Score: 2\\n\\n   Comments:\\n   - The variable name \"current\" could be improved for better clarity and adherence to naming conventions.\\n\\nOverall, the student\\'s code attempts to perform an in-order traversal of a BST and write the values to a file. However, there are significant issues in the functionality of the code, and the variable naming could be improved for better clarity.\\n\\nTotal Score for inOrder function: 3\\n\\nGiven the evaluation, the student should focus on correcting the in-order traversal logic to properly traverse the BST and write the values to the file. Additionally, refining the variable naming for better clarity and adherence to naming conventions would enhance the code\\'s readability.',\n",
       " \"Based on the provided student's C code for the `traverse` function and the given rubric, here is the evaluation:\\n\\n1. **Traversal outputs each linked list to file2.txt, with one linked list per line as described in the sample (5 marks)**:\\n   - Score: 2\\n   - Comments:\\n     - The student's code attempts to open a file and call the `inOrder` function to perform traversal. However, there are critical issues in the functionality of the code.\\n     - The code lacks the logic to properly traverse the binary search tree (BST) and write the values to the file as described in the rubric.\\n     - The provided code does not correctly handle the traversal and output of the linked lists to the file, leading to incorrect functionality.\\n\\n2. **Memory Management**:\\n   - Score: N/A\\n   - Comments:\\n     - As the code focuses on traversal and writing to a file, memory management involving allocation is not directly applicable to the `traverse` function.\\n\\n3. **Naming Conventions**:\\n   - Score: 3\\n   - Comments:\\n     - The variable name `Tree` is clear and descriptive, following good naming conventions.\\n\\nOverall, the student's code attempts to perform traversal and output to a file, but there are significant issues in the functionality of the code. Additionally, the memory management criterion is not directly applicable to this function. The variable naming for the `Tree` variable is appropriate.\\n\\nTotal Score for `traverse` function: 2\\n\\nGiven the evaluation, the student should focus on correcting the traversal logic to properly traverse the BST and write the values to the file as described in the rubric. Additionally, ensuring proper error handling and refinement of the variable naming for better clarity and adherence to naming conventions would significantly enhance the code's functionality and readability.\"]"
      ]
     },
     "execution_count": 8,
     "metadata": {},
     "output_type": "execute_result"
    }
   ],
   "source": [
    "def reevaluate_student_code(student_code: str, model_code: str, rubric_content: str, prior_evaluation: str, state: MessagesState, function_name: str):\n",
    "    sys_msg = SystemMessage(content=\"You are a helpful assistant tasked with evaluating a student's C code against a model solution based on a provided rubric. You will give numeric scores for each criterion and provide detailed comments, including correctness, errors, and suggestions for improvement.\")\n",
    "\n",
    "    # Prepare the human message containing the student code, model code, and rubric\n",
    "    human_msg = HumanMessage(content=f\"Here is a student's C code submission:\\n\\n{student_code}\\n\\nAnd here is the correct model solution:\\n\\n{model_code}\\n\\nUsing the following rubric:\\n\\n{rubric_content}\\n\\nThe previous evaluation for the {function_name} function was:\\n\\n{prior_evaluation}\\n\\nEvaluate the student's submission, providing a numeric score for each criterion from the rubric. Along with the score, give detailed comments on the correctness, errors, and suggestions for improvement. Include the function name in the response.\")\n",
    "\n",
    "    # Update the state with the human message\n",
    "    state[\"messages\"].append(human_msg)\n",
    "    llm_for_evaluation = ChatOpenAI(model=\"gpt-3.5-turbo-1106\")\n",
    "    # Invoke the LLM using the system message and the state\n",
    "    evaluation_response = llm_for_evaluation.invoke([sys_msg] + state[\"messages\"])\n",
    "    \n",
    "    # Parse the AI response (assuming it returns the correct format directly)\n",
    "    return evaluation_response\n",
    "\n",
    "def re_evaluator(extracted_student_functions, extracted_model_functions, extracted_rubric, evaluations=None):\n",
    "    if evaluations is None:\n",
    "        evaluations = []\n",
    "    \n",
    "    for x, i in enumerate(extracted_student_functions):\n",
    "        rubric = ''\n",
    "        model = ''\n",
    "        for function_dict in extracted_model_functions:\n",
    "            if function_dict.get('function_name') == i['function_name']:\n",
    "                model = function_dict['function_code']\n",
    "        for function_dict in extracted_rubric:\n",
    "            if function_dict.get('function_name') == i['function_name']:\n",
    "                rubric = function_dict['function_rubric']\n",
    "        \n",
    "        state = MessagesState(messages=[])\n",
    "        evaluations.append(reevaluate_student_code(i['function_code'], model, rubric, evaluations, state, i['function_name']).content)\n",
    "    \n",
    "    return evaluations\n",
    "\n",
    "# Usage:\n",
    "reevaluations = re_evaluator(extracted_student_functions, extracted_model_functions, extracted_rubric)\n",
    "reevaluations"
   ]
  },
  {
   "cell_type": "code",
   "execution_count": 17,
   "id": "420e7d27-4465-41b0-917d-2f3ce41a6cfd",
   "metadata": {},
   "outputs": [
    {
     "name": "stdout",
     "output_type": "stream",
     "text": [
      "[3, 2, 3]\n",
      "```json\n",
      "[\n",
      "    {\"function_name\": \"Functionality\", \"function_rubric\": 3},\n",
      "    {\"function_name\": \"Memory Management\", \"function_rubric\": 2},\n",
      "    {\"function_name\": \"Naming Conventions\", \"function_rubric\": 2}\n",
      "]\n",
      "```\n",
      "```json\n",
      "[\n",
      "  {\n",
      "    \"function_name\": \"InsertAfter\",\n",
      "    \"function_rubric\": \"2, N/A, 2\"\n",
      "  }\n",
      "]\n",
      "```\n",
      "[2, 2]\n",
      "[3, 2, 3]\n",
      "[3, 2, 3]\n",
      "The stepwise marks given for the creation function are as follows: [1, 1, 2]\n",
      "The stepwise marks from the provided evaluations are as follows:\n",
      "\n",
      "1. 3, 2, 3\n",
      "2. 2, 2, 2\n",
      "3. 1, 1, 2\n",
      "\n",
      "The extracted stepwise marks in a comma-separated list are: [3, 2, 3, 2, 2, 2, 1, 1, 2]\n",
      "The stepwise marks given for the provided evaluations are:\n",
      "\n",
      "1, 2, 3\n",
      "The stepwise marks for the given evaluations are as follows:\n",
      "\n",
      "1. [3, 2, 3]\n",
      "2. [3, 2, 2]\n",
      "3. [1, 3, 2]\n",
      "\n",
      "Please let me know if you need any further assistance.\n"
     ]
    }
   ],
   "source": [
    "def extract_marks(evaluation):\n",
    "    sys_msg = SystemMessage(content=\"You are a helpful assistant tasked with extracting stepwise makrs from the given evaluation.\")\n",
    "\n",
    "    # Prepare the human message containing the student code, model code, and rubric\n",
    "    human_msg = HumanMessage(content=f\"Here is a student's C code evaluation:\\n\\n{evaluation}. Extract the stepwise marks given, and return a comma separated list of all the marks given for this question. Ensure that marks which have already been counted are not counted again. The output should be in a format resembling: [1, 2, 3, ...]\")\n",
    "\n",
    "    # Update the state with the human message\n",
    "    state[\"messages\"].append(human_msg)\n",
    "    llm_for_extraction = ChatOpenAI(model=\"gpt-3.5-turbo-1106\")\n",
    "    # Invoke the LLM using the system message and the state\n",
    "    extraction_response = llm_for_extraction.invoke([sys_msg] + state[\"messages\"])\n",
    "    \n",
    "    # Parse the AI response (assuming it returns the correct format directly)\n",
    "    return extraction_response\n",
    "\n",
    "def extract_marks_for_all_functions(evaluations):\n",
    "    marks=[]\n",
    "    for i in evaluations:\n",
    "        print(extract_marks(i).content)\n",
    "    return marks\n",
    "\n",
    "list_of_marks=extract_marks_for_all_functions(reevaluations)"
   ]
  },
  {
   "cell_type": "code",
   "execution_count": 12,
   "id": "f677cf33",
   "metadata": {},
   "outputs": [
    {
     "ename": "NameError",
     "evalue": "name 'extraction_response' is not defined",
     "output_type": "error",
     "traceback": [
      "\u001b[1;31m---------------------------------------------------------------------------\u001b[0m",
      "\u001b[1;31mNameError\u001b[0m                                 Traceback (most recent call last)",
      "Cell \u001b[1;32mIn[12], line 1\u001b[0m\n\u001b[1;32m----> 1\u001b[0m \u001b[43mextraction_response\u001b[49m\n",
      "\u001b[1;31mNameError\u001b[0m: name 'extraction_response' is not defined"
     ]
    }
   ],
   "source": [
    "extraction_response"
   ]
  },
  {
   "cell_type": "code",
   "execution_count": null,
   "id": "4d3b2724-d774-4de1-a72b-67906a672001",
   "metadata": {},
   "outputs": [
    {
     "data": {
      "text/plain": [
       "[5,\n",
       " 5,\n",
       " 4,\n",
       " 2,\n",
       " 5,\n",
       " 4,\n",
       " 2,\n",
       " 2,\n",
       " 1,\n",
       " 1,\n",
       " 6,\n",
       " 7,\n",
       " 5,\n",
       " 8,\n",
       " 3,\n",
       " 3,\n",
       " 4,\n",
       " 4,\n",
       " 1,\n",
       " 7,\n",
       " 5,\n",
       " 8,\n",
       " 6,\n",
       " 3,\n",
       " 2,\n",
       " 4,\n",
       " 1,\n",
       " 3,\n",
       " 4,\n",
       " 5,\n",
       " 4,\n",
       " 2,\n",
       " 2,\n",
       " 1,\n",
       " 0,\n",
       " 0,\n",
       " 2,\n",
       " 1,\n",
       " 3,\n",
       " 2,\n",
       " 2,\n",
       " 5,\n",
       " 3,\n",
       " 2,\n",
       " 1]"
      ]
     },
     "execution_count": 22,
     "metadata": {},
     "output_type": "execute_result"
    }
   ],
   "source": [
    "list_of_marks"
   ]
  },
  {
   "cell_type": "code",
   "execution_count": null,
   "id": "52a15748-62cc-4163-ae01-05e71701d264",
   "metadata": {},
   "outputs": [
    {
     "name": "stdout",
     "output_type": "stream",
     "text": [
      "150\n"
     ]
    }
   ],
   "source": [
    "def sum_marks(list_of_marks) -> int:\n",
    "    return sum(list_of_marks)\n",
    "\n",
    "print(sum_marks(list_of_marks))\n",
    "\n",
    "tools = [sum_marks]\n",
    "llm = ChatOpenAI(model=\"gpt-3.5-turbo-1106\")\n",
    "llm_with_tools = llm.bind_tools(tools)"
   ]
  },
  {
   "cell_type": "code",
   "execution_count": null,
   "id": "353ceaaf-089a-4396-a460-1312e8f24400",
   "metadata": {},
   "outputs": [
    {
     "data": {
      "image/jpeg": "[encoded data removed]",
      "text/plain": [
       "<IPython.core.display.Image object>"
      ]
     },
     "metadata": {},
     "output_type": "display_data"
    }
   ],
   "source": [
    "#WILL NOT RUN\n",
    "\n",
    "from langgraph.graph import StateGraph, MessagesState, START, END\n",
    "from IPython.display import Image, display\n",
    "\n",
    "# Graph\n",
    "builder = StateGraph(MessagesState)\n",
    "\n",
    "# Define nodes: these do the work\n",
    "# builder.add_node(\"assistant\", assistant)\n",
    "# builder.add_node(\"tools\", ToolNode(tools))\n",
    "\n",
    "\n",
    "builder.add_node(\"Function Extraction\", extract_functions )\n",
    "builder.add_node(\"Rubric Extraction\", extract_rubric)\n",
    "builder.add_node(\"Initial Evaluation\", initial_evaluator)\n",
    "builder.add_node(\"Review Evaluation\", re_evaluator)\n",
    "builder.add_node(\"Marks Extraction\", extract_marks_for_all_functions)\n",
    "builder.add_node(\"Total Marks\", sum_marks)\n",
    "builder.add_node(\"Report Generation\", sum_marks)\n",
    "\n",
    "builder.add_edge(START, \"Function Extraction\")\n",
    "\n",
    "builder.add_edge(\"Function Extraction\", \"Rubric Extraction\")\n",
    "\n",
    "builder.add_edge(\"Rubric Extraction\", \"Initial Evaluation\")\n",
    "\n",
    "builder.add_edge(\"Initial Evaluation\", \"Review Evaluation\")\n",
    "\n",
    "builder.add_edge(\"Review Evaluation\", \"Marks Extraction\")\n",
    "\n",
    "builder.add_edge(\"Marks Extraction\", \"Total Marks\")\n",
    "\n",
    "builder.add_edge(\"Total Marks\", \"Report Generation\")\n",
    "\n",
    "builder.add_edge(\"Report Generation\", END)\n",
    "\n",
    "# Define edges: these determine how the control flow moves\n",
    "# builder.add_edge(START, \"assistant\")\n",
    "# builder.add_conditional_edges(\n",
    "#     \"assistant\",\n",
    "#     # If the latest message (result) from assistant is a tool call -> tools_condition routes to tools\n",
    "#     # If the latest message (result) from assistant is a not a tool call -> tools_condition routes to END\n",
    "#     tools_condition,\n",
    "# )\n",
    "# builder.add_edge(\"tools\", \"assistant\")\n",
    "react_graph = builder.compile()\n",
    "\n",
    "# Show\n",
    "display(Image(react_graph.get_graph(xray=True).draw_mermaid_png()))"
   ]
  },
  {
   "cell_type": "code",
   "execution_count": null,
   "id": "f540dbd2-d967-4731-95ff-272c121717b4",
   "metadata": {},
   "outputs": [],
   "source": [
    "#i did not have enough time to put it all in a chain, but the flow of the graph is a straight chain \n",
    "#from the start to the end with the functions/agents called in the order above"
   ]
  },
  {
   "cell_type": "code",
   "execution_count": null,
   "id": "1645c5e4-4bf4-4d56-adf3-0e6bd743da72",
   "metadata": {},
   "outputs": [
    {
     "ename": "SyntaxError",
     "evalue": "invalid decimal literal (3199696890.py, line 3)",
     "output_type": "error",
     "traceback": [
      "\u001b[1;36m  Cell \u001b[1;32mIn[26], line 3\u001b[1;36m\u001b[0m\n\u001b[1;33m    https://chatgpt.com/share/67065bd2-6234-800b-bc71-842393404dc9\u001b[0m\n\u001b[1;37m                                  ^\u001b[0m\n\u001b[1;31mSyntaxError\u001b[0m\u001b[1;31m:\u001b[0m invalid decimal literal\n"
     ]
    }
   ],
   "source": [
    "Link to the chat:\n",
    "\n",
    "https://chatgpt.com/share/67065bd2-6234-800b-bc71-842393404dc9"
   ]
  }
 ],
 "metadata": {
  "kernelspec": {
   "display_name": "project_env",
   "language": "python",
   "name": "python3"
  },
  "language_info": {
   "codemirror_mode": {
    "name": "ipython",
    "version": 3
   },
   "file_extension": ".py",
   "mimetype": "text/x-python",
   "name": "python",
   "nbconvert_exporter": "python",
   "pygments_lexer": "ipython3",
   "version": "3.12.4"
  }
 },
 "nbformat": 4,
 "nbformat_minor": 5
}
