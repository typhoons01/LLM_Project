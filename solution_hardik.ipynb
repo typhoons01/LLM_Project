{
 "cells": [
  {
   "cell_type": "code",
   "execution_count": 14,
   "id": "83e84eff-63a9-47be-a44f-ff18742bf2c6",
   "metadata": {},
   "outputs": [
    {
     "name": "stdout",
     "output_type": "stream",
     "text": [
      "OpenAI API Key fetched successfully!\n"
     ]
    }
   ],
   "source": [
    "from dotenv import load_dotenv\n",
    "import os, getpass\n",
    "\n",
    "# Load environment variables from .env file\n",
    "load_dotenv()\n",
    "\n",
    "# Fetch the OpenAI API key\n",
    "openai_api_key = os.getenv(\"OPENAI_API_KEY\")\n",
    "\n",
    "def _set_env(var: str):\n",
    "    if not os.environ.get(var):\n",
    "        os.environ[var] = getpass.getpass(f\"{var}: \")\n",
    "\n",
    "\n",
    "if openai_api_key:\n",
    "    print(\"OpenAI API Key fetched successfully!\")\n",
    "else:\n",
    "    _set_env(\"OPENAI_API_KEY\")"
   ]
  },
  {
   "cell_type": "code",
   "execution_count": 15,
   "id": "0196f26b-e3db-4f35-8a8f-10246a50323a",
   "metadata": {},
   "outputs": [],
   "source": [
    "from langchain_openai import ChatOpenAI\n",
    "from langchain_core.messages import AIMessage, HumanMessage, SystemMessage\n",
    "from langgraph.graph import MessagesState\n",
    "import requests\n",
    "import json"
   ]
  },
  {
   "cell_type": "code",
   "execution_count": null,
   "id": "d35d0560-ae5b-42ab-ad4d-c5aa263fdc82",
   "metadata": {},
   "outputs": [
    {
     "data": {
      "text/plain": [
       "[{'function_name': 'createNewRecord',\n",
       "  'function_code': 'record* createNewRecord(){\\n    record* newRecord;\\n    newRecord = (record*)malloc(sizeof(record));\\n    newRecord->length = 0;\\n    newRecord->header.node = NULL;\\n    newRecord->tail.node = NULL;\\n    return newRecord;\\n}'},\n",
       " {'function_name': 'createNewNode',\n",
       "  'function_code': 'LLNode* createNewNode(int value){\\n    LLNode* newNode = (LLNode*)malloc(sizeof(LLNode));\\n    newNode->ele = value;\\n    newNode->next = NULL;\\n    return newNode;\\n}'},\n",
       " {'function_name': 'addNodeToRecord',\n",
       "  'function_code': 'void addNodeToRecord(record* r, int value){\\n    LLNode* newNode = createNewNode(value);\\n    if(r->length == 0){\\n        r->header.node = newNode;\\n        r->tail.node = newNode;\\n    } else{\\n        r->tail.node->next = newNode;\\n        r->tail.node = newNode; \\n    }\\n    r->length++;\\n}'},\n",
       " {'function_name': 'new_bst',\n",
       "  'function_code': 'BST* new_bst()\\n{\\n    BST* bst = (BST*)malloc(sizeof(BST));\\n    bst->root = NULL;\\n    bst->size = 0;\\n    return bst;\\n}'},\n",
       " {'function_name': 'new_node',\n",
       "  'function_code': 'Node* new_node(record* record)\\n{\\n    Node* node = malloc(sizeof(Node));\\n    node->record = *record;\\n    node->left = NULL;\\n    node->right = NULL;\\n}'},\n",
       " {'function_name': 'insert',\n",
       "  'function_code': 'void insert(BST* bst, record* record)\\n{\\n    Node* node = new_node(record);\\n    if(bst->root == NULL)\\n    {\\n        bst->root = node;\\n        bst->size++;\\n        return;\\n    }\\n\\n    Node* current = bst->root;\\n    while(current!= NULL)\\n    {\\n        if(record->header.node->ele < current->record.header.node->ele)\\n        {\\n            if(current->left == NULL)\\n            {\\n                current->left = node;\\n                bst->size++;\\n                return;\\n            }\\n            current= current->left;\\n        }\\n\\n        else\\n        {\\n            if(current->right == NULL)\\n            {\\n                current->right = node;\\n                bst->size++;\\n                return;\\n            }\\n            current = current->right;\\n        }\\n    }\\n}'},\n",
       " {'function_name': 'readData',\n",
       "  'function_code': 'BST* readData(char* fileName){\\n    FILE* fp = fopen(fileName, \"r\");\\n    BST* bst = new_bst();\\n    char* num_line = malloc(10);\\n    fgets(num_line, 8, fp);\\n    int num = (int) *num_line - 48;\\n    int max_int[MAX_INT_LEN];\\n    while(fgets(max_int, MAX_INT_LEN, fp)){\\n        for(int i = 0; i<50; i++){\\n            record* r = createNewRecord();\\n            addNodeToRecord(r, max_int[i]);\\n            insert(bst, r);\\n        }\\n    }\\n    return bst;\\n    fclose(fp);\\n}'},\n",
       " {'function_name': 'traverse_in_order',\n",
       "  'function_code': 'void traverse_in_order(Node* node){\\n    if(node == NULL)\\n        return;\\n    traverse_in_order(node->left);\\n    traverse_in_order(node->right);\\n}'},\n",
       " {'function_name': 'mergeIn',\n",
       "  'function_code': 'LLNode* mergeIn(LLNode* head, int st1, int st2, int en2){\\n    LLNode* head1 = head, *head2, *newListHead=NULL, *newListTail = NULL;\\n    LLNode* insertStart = head, *insertEnd= NULL;\\n    for(int i = 0; i<st1; i++){\\n        head1 = head1->next;\\n        if(i!=st1-1) insertStart = insertStart->next;\\n    }\\n    head2 = head1;\\n    for(int i = 0; i<st2 - st1; i++)\\n        head2= head2->next;\\n    int len1 = st2-st1, len2 = en2-st2+1;\\n    int coveredLen1 = 0, coveredLen2 = 0;\\n\\n    for(int i = 0; i<len1+len2; i++){\\n        if(coveredLen1==len1){\\n            if(newListHead==NULL){\\n                newListHead = head2;\\n                newListTail = head2;\\n            } else{\\n                newListTail->next = head2;\\n                newListTail = head2;\\n            }\\n            head2 = head2->next;\\n            coveredLen2++;\\n\\n            } else if(coveredLen2==len2){\\n                if(newListHead == NULL){\\n                    newListHead = head1;\\n                    newListTail = head1;\\n                } else{\\n                    newListTail->next = head1;\\n                    newListTail = head1;\\n                }\\n                head1 = head1->next;\\n                coveredLen1++;\\n            } else{\\n                if(newListHead == NULL){\\n                    newListHead = head2;\\n                    newListTail = head2;\\n                } else{\\n                    newListTail->next = head2;\\n                    newListTail = head2;\\n                }\\n                head2 = head2->next;\\n                coveredLen2++;\\n            }\\n\\n        }\\n        if(len2==0)\\n            newListTail->next = head1;\\n        else newListTail->next = head2;\\n        if(st1==0) return newListHead;\\n        else{\\n            insertStart->next = newListHead;\\n            return head;\\n        }\\n        return head;\\n    }'},\n",
       " {'function_name': 'sortLists',\n",
       "  'function_code': 'void sortLists(BST* bst){\\n    while(bst->root!= NULL)\\n        traverse_in_order(bst->root);\\n    if(bst->root->record.length<=1){\\n        int maxSlSz, slSz, st1, last = bst->root->record.length -1;\\n        for(maxSlSz=1; bst->root->record.length>maxSlSz; maxSlSz * 2);\\n            for(slSz=1; slSz<=maxSlSz; slSz*=2){\\n                for(st1 = 0; st1<=last; st1=st1+2*slSz){\\n                    int st2 = st1+slSz;\\n                    int en2 = st2+slSz-1;\\n                    if(st2>last) continue;\\n                    if(en2>last){\\n                        en2 = last;\\n                    }\\n                    bst->root->record.header.node = mergeIn(bst->root->record.header.node, st1, st2, en2);\\n                }\\n        }\\n    }\\n}'},\n",
       " {'function_name': 'traverse',\n",
       "  'function_code': 'void traverse(Node* node){\\n    if(node == NULL)\\n        return;\\n    traverse(node->left);\\n    LLNode* traversal_node = node->record.header.node;\\n    for(int i = 0; i<=node->record.length; i++){\\n        FILE* fpt = fopen(\"file2.txt\", \"w\");\\n        fprintf(fpt, \"%d\", traversal_node->ele);\\n        traversal_node = traversal_node->next;\\n        fclose(fpt);\\n\\n    }\\n    traverse(node->right);\\n}'},\n",
       " {'function_name': 'main',\n",
       "  'function_code': 'int main(){\\n    BST* bst = readData(\"file1.txt\");\\n    sortLists(bst);\\n    traverse(bst->root);\\n    return 0;\\n}'}]"
      ]
     },
     "execution_count": 16,
     "metadata": {},
     "output_type": "execute_result"
    }
   ],
   "source": [
    "# System message for context\n",
    "\n",
    "# Function to extract C functions from C files via ChatGPT\n",
    "def extract_functions(path: str, state: MessagesState):\n",
    "    sys_msg = SystemMessage(content=\"You are a helpful assistant tasked with extracting C functions and their code from the provided C file.\")\n",
    "    # Fetch the file content from the provided link\n",
    "    with open(path, 'r') as file:\n",
    "        file_content = file.read()\n",
    "    # Prepare the human message containing the file content\n",
    "    human_msg = HumanMessage(content=f\"Extract the different C functions from the following C file:\\n\\n{file_content}\\n\\nProvide a list of dictionaries where each dictionary contains the 'function_name' which is only the name of the function(remove any brackets or return parameters etc) and 'function_code'. Clean the response to not have anything other than the list of dictionaries in the output. The final output should be in json\")\n",
    "\n",
    "    # Update the state with the human message\n",
    "    state[\"messages\"].append(human_msg)\n",
    "    llm_for_extraction = ChatOpenAI(model=\"gpt-4o-mini\")\n",
    "    # Invoke the LLM using the provided system message and the state\n",
    "    extracted_functions = llm_for_extraction.invoke([sys_msg] + state[\"messages\"])\n",
    "    \n",
    "    # Parse the AI response (assuming it returns the correct format directly)\n",
    "    return extracted_functions\n",
    "\n",
    "# Example usage\n",
    "state = MessagesState(messages=[])\n",
    "link_to_file = \"data/files/student_solution.c\"  \n",
    "# print(extract_functions(link_to_file, state).content.rstrip('```'.lstrip('```json')))\n",
    "extracted_student_functions = json.loads(extract_functions(link_to_file, state).content.rstrip('```').lstrip('```json'))\n",
    "link_to_file = \"data/files/model_solution.c\"  # Replace with the actual link to the file file\n",
    "extracted_model_functions = json.loads(extract_functions(link_to_file, state).content.rstrip('```').lstrip('```json'))\n",
    "extracted_model_functions"
   ]
  },
  {
   "cell_type": "code",
   "execution_count": 17,
   "id": "4aea1dce",
   "metadata": {},
   "outputs": [
    {
     "data": {
      "text/plain": [
       "[{'function_name': 'createNewRecord',\n",
       "  'function_code': 'record* createNewRecord(){\\n    record* newRecord;\\n    newRecord = (record*)malloc(sizeof(record));\\n    newRecord->length = 0;\\n    newRecord->header.node = NULL;\\n    newRecord->tail.node = NULL;\\n    return newRecord;\\n}'},\n",
       " {'function_name': 'createNewNode',\n",
       "  'function_code': 'LLNode* createNewNode(int value){\\n    LLNode* newNode = (LLNode*)malloc(sizeof(LLNode));\\n    newNode->ele = value;\\n    newNode->next = NULL;\\n    return newNode;\\n}'},\n",
       " {'function_name': 'addNodeToRecord',\n",
       "  'function_code': 'void addNodeToRecord(record* r, int value){\\n    LLNode* newNode = createNewNode(value);\\n    if(r->length == 0){\\n        r->header.node = newNode;\\n        r->tail.node = newNode;\\n    } else{\\n        r->tail.node->next = newNode;\\n        r->tail.node = newNode; \\n    }\\n    r->length++;\\n}'},\n",
       " {'function_name': 'new_bst',\n",
       "  'function_code': 'BST* new_bst()\\n{\\n    BST* bst = (BST*)malloc(sizeof(BST));\\n    bst->root = NULL;\\n    bst->size = 0;\\n    return bst;\\n}'},\n",
       " {'function_name': 'new_node',\n",
       "  'function_code': 'Node* new_node(record* record)\\n{\\n    Node* node = malloc(sizeof(Node));\\n    node->record = *record;\\n    node->left = NULL;\\n    node->right = NULL;\\n}'},\n",
       " {'function_name': 'insert',\n",
       "  'function_code': 'void insert(BST* bst, record* record)\\n{\\n    Node* node = new_node(record);\\n    if(bst->root == NULL)\\n    {\\n        bst->root = node;\\n        bst->size++;\\n        return;\\n    }\\n\\n    Node* current = bst->root;\\n    while(current!= NULL)\\n    {\\n        if(record->header.node->ele < current->record.header.node->ele)\\n        {\\n            if(current->left == NULL)\\n            {\\n                current->left = node;\\n                bst->size++;\\n                return;\\n            }\\n            current= current->left;\\n        }\\n\\n        else\\n        {\\n            if(current->right == NULL)\\n            {\\n                current->right = node;\\n                bst->size++;\\n                return;\\n            }\\n            current = current->right;\\n        }\\n    }\\n}'},\n",
       " {'function_name': 'readData',\n",
       "  'function_code': 'BST* readData(char* fileName){\\n    FILE* fp = fopen(fileName, \"r\");\\n    BST* bst = new_bst();\\n    char* num_line = malloc(10);\\n    fgets(num_line, 8, fp);\\n    int num = (int) *num_line - 48;\\n    int max_int[MAX_INT_LEN];\\n    while(fgets(max_int, MAX_INT_LEN, fp)){\\n        for(int i = 0; i<50; i++){\\n            record* r = createNewRecord();\\n            addNodeToRecord(r, max_int[i]);\\n            insert(bst, r);\\n        }\\n    }\\n    return bst;\\n    fclose(fp);\\n}'},\n",
       " {'function_name': 'traverse_in_order',\n",
       "  'function_code': 'void traverse_in_order(Node* node){\\n    if(node == NULL)\\n        return;\\n    traverse_in_order(node->left);\\n    traverse_in_order(node->right);\\n}'},\n",
       " {'function_name': 'mergeIn',\n",
       "  'function_code': 'LLNode* mergeIn(LLNode* head, int st1, int st2, int en2){\\n    LLNode* head1 = head, *head2, *newListHead=NULL, *newListTail = NULL;\\n    LLNode* insertStart = head, *insertEnd= NULL;\\n    for(int i = 0; i<st1; i++){\\n        head1 = head1->next;\\n        if(i!=st1-1) insertStart = insertStart->next;\\n    }\\n    head2 = head1;\\n    for(int i = 0; i<st2 - st1; i++)\\n        head2= head2->next;\\n    int len1 = st2-st1, len2 = en2-st2+1;\\n    int coveredLen1 = 0, coveredLen2 = 0;\\n\\n    for(int i = 0; i<len1+len2; i++){\\n        if(coveredLen1==len1){\\n            if(newListHead==NULL){\\n                newListHead = head2;\\n                newListTail = head2;\\n            } else{\\n                newListTail->next = head2;\\n                newListTail = head2;\\n            }\\n            head2 = head2->next;\\n            coveredLen2++;\\n\\n            } else if(coveredLen2==len2){\\n                if(newListHead == NULL){\\n                    newListHead = head1;\\n                    newListTail = head1;\\n                } else{\\n                    newListTail->next = head1;\\n                    newListTail = head1;\\n                }\\n                head1 = head1->next;\\n                coveredLen1++;\\n            } else{\\n                if(newListHead == NULL){\\n                    newListHead = head2;\\n                    newListTail = head2;\\n                } else{\\n                    newListTail->next = head2;\\n                    newListTail = head2;\\n                }\\n                head2 = head2->next;\\n                coveredLen2++;\\n            }\\n\\n        }\\n        if(len2==0)\\n            newListTail->next = head1;\\n        else newListTail->next = head2;\\n        if(st1==0) return newListHead;\\n        else{\\n            insertStart->next = newListHead;\\n            return head;\\n        }\\n        return head;\\n    }'},\n",
       " {'function_name': 'sortLists',\n",
       "  'function_code': 'void sortLists(BST* bst){\\n    while(bst->root!= NULL)\\n        traverse_in_order(bst->root);\\n    if(bst->root->record.length<=1){\\n        int maxSlSz, slSz, st1, last = bst->root->record.length -1;\\n        for(maxSlSz=1; bst->root->record.length>maxSlSz; maxSlSz * 2);\\n            for(slSz=1; slSz<=maxSlSz; slSz*=2){\\n                for(st1 = 0; st1<=last; st1=st1+2*slSz){\\n                    int st2 = st1+slSz;\\n                    int en2 = st2+slSz-1;\\n                    if(st2>last) continue;\\n                    if(en2>last){\\n                        en2 = last;\\n                    }\\n                    bst->root->record.header.node = mergeIn(bst->root->record.header.node, st1, st2, en2);\\n                }\\n        }\\n    }\\n}'},\n",
       " {'function_name': 'traverse',\n",
       "  'function_code': 'void traverse(Node* node){\\n    if(node == NULL)\\n        return;\\n    traverse(node->left);\\n    LLNode* traversal_node = node->record.header.node;\\n    for(int i = 0; i<=node->record.length; i++){\\n        FILE* fpt = fopen(\"file2.txt\", \"w\");\\n        fprintf(fpt, \"%d\", traversal_node->ele);\\n        traversal_node = traversal_node->next;\\n        fclose(fpt);\\n\\n    }\\n    traverse(node->right);\\n}'},\n",
       " {'function_name': 'main',\n",
       "  'function_code': 'int main(){\\n    BST* bst = readData(\"file1.txt\");\\n    sortLists(bst);\\n    traverse(bst->root);\\n    return 0;\\n}'}]"
      ]
     },
     "execution_count": 17,
     "metadata": {},
     "output_type": "execute_result"
    }
   ],
   "source": [
    "extracted_model_functions"
   ]
  },
  {
   "cell_type": "code",
   "execution_count": null,
   "id": "7d54de89-00a5-4dd5-a10c-c407ff989992",
   "metadata": {},
   "outputs": [
    {
     "data": {
      "text/plain": [
       "[{'function_name': 'readData',\n",
       "  'function_rubric': 'Accurately reads the input file file1.txt and retrieves the number of records and corresponding data (5 marks). Correctly constructs a Binary Search Tree (BST) where each node stores a linked list, using the first integer in each line as the key (5 marks). Ensures that the BST adheres to the properties of binary search trees (5 marks). Verifies that each linked list is accurately inserted into the BST nodes (5 marks).',\n",
       "  'marks': 20},\n",
       " {'function_name': 'sortLists',\n",
       "  'function_rubric': 'Implements a sorting algorithm of choice to sort each linked list starting from the second node without modifying the first node (5 marks). Correctly sorts all linked lists stored in the BST nodes as per specifications (5 marks). Demonstrates logical and efficient sorting of the linked lists (4 marks). Handles edge cases such as empty lists or lists with a single node appropriately (3 marks).',\n",
       "  'marks': 17},\n",
       " {'function_name': 'traverse',\n",
       "  'function_rubric': 'Implements an in-order traversal of the BST to visit each node in the correct order (5 marks). Traversal outputs each linked list to file2.txt, with one linked list per line as described in the sample (5 marks). Ensures output format strictly matches the sample provided (5 marks). Handles special cases such as empty nodes or incomplete traversal (2 marks).',\n",
       "  'marks': 17},\n",
       " {'function_name': 'main',\n",
       "  'function_rubric': 'Drives the program in the required sequence: reading input, constructing the BST, sorting the lists, performing in-order traversal, and generating output (6 marks).',\n",
       "  'marks': 6},\n",
       " {'function_name': 'Code Quality and Style',\n",
       "  'function_rubric': 'Proper use of indentation, consistent spacing, and meaningful variable names (2 marks). Includes well-written comments explaining the logic, especially for critical sections like file handling, BST construction, and sorting (2 marks). Adheres to modularity by implementing the specified functions with clear separation of logic (2 marks). Uses reusable code structures and avoids unnecessary duplication of logic (2 marks).',\n",
       "  'marks': 8},\n",
       " {'function_name': 'Adherence to Assignment Constraints',\n",
       "  'function_rubric': 'Implements all required functions with the exact names, ensuring functionality matches the problem description (2 marks).',\n",
       "  'marks': 2}]"
      ]
     },
     "execution_count": 27,
     "metadata": {},
     "output_type": "execute_result"
    }
   ],
   "source": [
    "# System message for context\n",
    "\n",
    "\n",
    "# Function to extract C functions from file content via ChatGPT\n",
    "def extract_rubric(path: str, state: MessagesState):\n",
    "    sys_msg = SystemMessage(content=\"You are a helpful assistant tasked with extracting rubric for each C function from the provided file content.\")\n",
    "    # Fetch the file content from the provided link\n",
    "    with open(path, 'r') as file:\n",
    "        file_content = file.read()\n",
    "    \n",
    "    # Prepare the human message containing the file content\n",
    "    human_msg = HumanMessage(content=f\"The following file contains rubric details for a C submission:\\n\\n{file_content}\\n\\nPlease extract all the sections in the rubric details.\\n\\nState the maximum possible marks as per the rubric. Provide a list of dictionaries where each dictionary contains the 'function_name' which is only the name of the function (remove any brackets or return parameters etc) and 'function_rubric' along with marks assigned to that function/functionality. Clean the response to not have anything other than the list of dictionaries in the output. Make sure the total marks should add up to 60 marks. The final output should in json\")\n",
    "\n",
    "    # Update the state with the human message\n",
    "    state[\"messages\"].append(human_msg)\n",
    "    llm_for_rubric_extraction = ChatOpenAI(model=\"gpt-4o-mini\")\n",
    "    # Invoke the LLM using the provided system message and the state\n",
    "    extracted_rubric = llm_for_rubric_extraction.invoke([sys_msg] + state[\"messages\"])\n",
    "    \n",
    "    # Parse the AI response (assuming it returns the correct format directly)\n",
    "    return extracted_rubric\n",
    "\n",
    "# Example usage\n",
    "state = MessagesState(messages=[])\n",
    "link_to_file = \"data/files/rubric.md\"  # Replace with the mdual link to the file file\n",
    "extracted_rubric = json.loads(extract_rubric(link_to_file, state).content.rstrip('```').lstrip('```json'))\n",
    "\n",
    "extracted_rubric"
   ]
  },
  {
   "cell_type": "code",
   "execution_count": 28,
   "id": "10f09623-ed29-48af-adf9-7c566c7f1725",
   "metadata": {},
   "outputs": [
    {
     "data": {
      "text/plain": [
       "{'evaluation': [{'function_name': 'readData',\n",
       "   'marks': 8,\n",
       "   'comments': ['The function reads the input file, but it does not correctly retrieve the number of records and corresponding data as specified. The fscanf is not used correctly to parse multiple integers from the file.',\n",
       "    \"The construction of the BST is not entirely correct; for example, the relationships between nodes (keys) and their linked lists are not maintained properly. The BST should use the first integer as the key, but it seems to be using the linked list's head instead.\",\n",
       "    'The BST properties are not adequately verified. The insertion mechanism does not ensure that the BST properties are maintained.',\n",
       "    'The insertion of linked lists into BST nodes is incorrect. The code attempts to insert integers instead of linked lists.'],\n",
       "   'suggestions': ['Revise the file reading logic to properly parse multiple records.',\n",
       "    'Ensure that nodes in the BST are inserted based on their key values properly.',\n",
       "    'Implement checks to maintain BST properties during insertion.',\n",
       "    'Make sure to store the entire linked list within BST nodes.']},\n",
       "  {'function_name': 'sortLists',\n",
       "   'marks': 0,\n",
       "   'comments': [\"The function for sorting linked lists is not implemented in the student's code.\",\n",
       "    'There are several logical errors, and sorting is not performed on the linked lists as required.'],\n",
       "   'suggestions': ['Implement a sorting algorithm to sort the linked lists according to the specifications, starting from the second node.']},\n",
       "  {'function_name': 'traverse',\n",
       "   'marks': 3,\n",
       "   'comments': ['The traversal function does not correctly implement in-order traversal of the BST. The current logic tries to traverse the linked lists incorrectly.',\n",
       "    'The output file handling has issues, as it opens and closes the file multiple times unnecessarily.'],\n",
       "   'suggestions': ['Refactor the in-order traversal to ensure it visits each node and outputs the linked lists correctly.',\n",
       "    'Ensure that the output format matches the sample requirements and handles edge cases.']},\n",
       "  {'function_name': 'main',\n",
       "   'marks': 0,\n",
       "   'comments': [\"The main function is not implemented in the student's code.\"],\n",
       "   'suggestions': ['Create a main function that orchestrates the reading of data, constructing the BST, sorting the lists, and performing the traversal.']},\n",
       "  {'function_name': 'Code Quality and Style',\n",
       "   'marks': 4,\n",
       "   'comments': ['The code has inconsistent indentation and spacing in some parts.',\n",
       "    'Variable names are somewhat meaningful, but could be improved for clarity.',\n",
       "    'There are very few comments explaining the logic behind critical sections.'],\n",
       "   'suggestions': ['Maintain consistent indentation and spacing throughout the code.',\n",
       "    'Use more descriptive variable names for clarity.',\n",
       "    'Add comments to explain the purpose and logic of critical sections, especially in file handling and BST construction.']},\n",
       "  {'function_name': 'Adherence to Assignment Constraints',\n",
       "   'marks': 1,\n",
       "   'comments': ['Not all required functions are implemented, and some function names do not match the assignment specifications.'],\n",
       "   'suggestions': ['Ensure that all required functions are implemented with the exact names specified in the assignment.']}],\n",
       " 'total_marks': 16}"
      ]
     },
     "execution_count": 28,
     "metadata": {},
     "output_type": "execute_result"
    }
   ],
   "source": [
    "\n",
    "# Function to evaluate student code based on model code and rubric\n",
    "def evaluate_student_code(student_code: str, model_code: str, rubric_content: str, state: MessagesState):\n",
    "    sys_msg = SystemMessage(content=\"You are a helpful assistant tasked with evaluating a student's C code against a model solution based on a provided rubric. You will give numeric marks for each criterion and provide detailed comments, including correctness, errors, and suggestions for improvement.\")\n",
    "\n",
    "    # Prepare the human message containing the student code, model code, and rubric\n",
    "    human_msg = HumanMessage(content=f\"Here is a student's C code for the function:\\n\\n{student_code}\\n\\nAnd here is the correct model solution:\\n\\n{model_code}\\n\\nUsing the following rubric:\\n\\n{rubric_content}\\n\\n Now according to the rubric and taking model solution as the correct solution in consideration give numerical marks out of the maximum possible marks to that specific function_rubric in the student's C code submission. The final output should have functionality along with the marks allotted. Also give detailed comments, suggestions and improvements. The final output should in json\")\n",
    "\n",
    "    # Update the state with the human message\n",
    "    state[\"messages\"].append(human_msg)\n",
    "    llm_for_evaluation = ChatOpenAI(model=\"gpt-4o-mini\")\n",
    "    # Invoke the LLM using the system message and the state\n",
    "    evaluation_response = llm_for_evaluation.invoke([sys_msg] + state[\"messages\"])\n",
    "    \n",
    "    # Parse the AI response (assuming it returns the correct format directly)\n",
    "    return evaluation_response\n",
    "\n",
    "def initial_evaluator(extracted_student_functions, extracted_model_functions, extracted_rubric):\n",
    "    state = MessagesState(messages=[])\n",
    "    evaluations=evaluate_student_code(extracted_student_functions, extracted_model_functions, extracted_rubric, state)\n",
    "    return evaluations\n",
    "\n",
    "evaluations=initial_evaluator(extracted_student_functions, extracted_model_functions, extracted_rubric) \n",
    "evaluations = json.loads(evaluations.content.rstrip('```').lstrip('```json'))\n",
    "evaluations"
   ]
  },
  {
   "cell_type": "code",
   "execution_count": 29,
   "metadata": {},
   "outputs": [
    {
     "data": {
      "text/plain": [
       "{'evaluation': {'readData': {'marks': 8,\n",
       "   'comments': ['The function attempts to read from a file and create a BST, but it lacks the correct handling of the number of records and their corresponding data.',\n",
       "    'The function does not correctly construct the BST, as it does not store each linked list in the nodes properly; it lacks the logic to use the first integer in each line as the key.',\n",
       "    'The BST properties are not adhered to, and there is no mechanism to ensure that elements are inserted in the correct order.',\n",
       "    'The function does not verify if each linked list is accurately inserted into the BST nodes; the logic for managing linked lists is flawed.'],\n",
       "   'suggestions': ['Ensure that you read the number of records correctly and maintain the structure of the BST.',\n",
       "    'Implement a clear insertion logic that respects the BST properties.',\n",
       "    'Modify the logic to create linked lists and insert them into the BST nodes accordingly.']},\n",
       "  'sortLists': {'marks': 5,\n",
       "   'comments': ['The function lacks the implementation of a proper sorting algorithm for the linked lists.',\n",
       "    'It does not correctly sort the lists as per specifications and fails to demonstrate logical and efficient sorting.',\n",
       "    'Edge cases, such as handling empty lists or lists with a single node, are not addressed.'],\n",
       "   'suggestions': ['Choose a sorting algorithm (like merge sort) and implement it to sort the linked lists.',\n",
       "    'Implement checks for edge cases to ensure that the algorithm works for all possible linked list configurations.']},\n",
       "  'traverse': {'marks': 10,\n",
       "   'comments': ['The in-order traversal is partially implemented, but it does not follow the expected output format.',\n",
       "    'The logic to output each linked list to file2.txt is not correctly structured, and it does not ensure that each list is printed on a new line.',\n",
       "    'Special cases such as empty nodes are not handled.'],\n",
       "   'suggestions': ['Refine the traversal logic to ensure correct output formatting, with each linked list printed on a new line.',\n",
       "    'Include handling for empty lists or nodes during traversal.']},\n",
       "  'main': {'marks': 3,\n",
       "   'comments': ['The main function lacks the required sequence for program execution.',\n",
       "    'It does not adequately drive the program through reading input, constructing the BST, sorting the lists, and performing in-order traversal.'],\n",
       "   'suggestions': ['Revise the main function to ensure it calls the necessary functions in the correct order to achieve the desired outcome.']},\n",
       "  'Code Quality and Style': {'marks': 4,\n",
       "   'comments': ['The code suffers from inconsistent spacing and indentation, making it hard to read.',\n",
       "    'There is a lack of comments explaining the logic, especially in critical sections.',\n",
       "    'Some variable names are not meaningful or consistent, which affects code clarity.'],\n",
       "   'suggestions': ['Improve code indentation and spacing for better readability.',\n",
       "    'Add comments to explain the logic, particularly in complex sections.',\n",
       "    'Use meaningful variable names that reflect their purpose.']},\n",
       "  'Adherence to Assignment Constraints': {'marks': 1,\n",
       "   'comments': ['Not all required functions have been implemented correctly, and some function names do not match the specification.',\n",
       "    'The functionality does not align well with the problem description.'],\n",
       "   'suggestions': ['Ensure that all required functions are implemented with the exact names specified in the assignment.']}},\n",
       " 'total_marks': 31,\n",
       " 'max_marks': 70}"
      ]
     },
     "execution_count": 29,
     "metadata": {},
     "output_type": "execute_result"
    }
   ],
   "source": [
    "\n",
    "# Function to evaluate student code based on model code and rubric\n",
    "def reevaluate_student_code(student_code: str, model_code: str, rubric_content: str, state: MessagesState):\n",
    "    sys_msg = SystemMessage(content=\"You are a helpful assistant tasked with evaluating a student's C code against a model solution based on a provided rubric. You will give numeric marks for each criterion and provide detailed comments, including correctness, errors, and suggestions for improvement.\")\n",
    "\n",
    "    # Prepare the human message containing the student code, model code, and rubric\n",
    "    human_msg = HumanMessage(content=f\"Here is a student's C code for the function:\\n\\n{student_code}\\n\\nAnd here is the correct model solution:\\n\\n{model_code}\\n\\nUsing the following rubric:\\n\\n{rubric_content} and here is the prior evaluluation {prior_evaluation}\\n\\n Now according to the rubric and taking model solution as the correct solution in consideration recheck numerical marks given out of the maximum possible marks to that specific function_rubric in the student's C code submission. The final output should have functionality along with the marks allotted. Also give detailed comments, suggestions and improvements. The final output should in json\")\n",
    "\n",
    "    # Update the state with the human message\n",
    "    state[\"messages\"].append(human_msg)\n",
    "    llm_for_evaluation = ChatOpenAI(model=\"gpt-4o-mini\")\n",
    "    # Invoke the LLM using the system message and the state\n",
    "    evaluation_response = llm_for_evaluation.invoke([sys_msg] + state[\"messages\"])\n",
    "    \n",
    "    # Parse the AI response (assuming it returns the correct format directly)\n",
    "    return evaluation_response\n",
    "\n",
    "def reevaluator(extracted_student_functions, extracted_model_functions, extracted_rubric):\n",
    "    state = MessagesState(messages=[])\n",
    "    reevaluations=evaluate_student_code(extracted_student_functions, extracted_model_functions, extracted_rubric, state)\n",
    "    return reevaluations\n",
    "\n",
    "reevaluations=initial_evaluator(extracted_student_functions, extracted_model_functions, extracted_rubric) \n",
    "reevaluations = json.loads(reevaluations.content.rstrip('```').lstrip('```json'))\n",
    "reevaluations"
   ]
  },
  {
   "cell_type": "code",
   "execution_count": null,
   "id": "a81ddc1a",
   "metadata": {},
   "outputs": [],
   "source": [
    "# #NEED TO MODIFY SLIGHTLY\n",
    "# #Compilation and test cases feature\n",
    "\n",
    "# import subprocess\n",
    "# import os\n",
    "\n",
    "# def compile_and_run_c_code(file_path: str):\n",
    "#     \"\"\"\n",
    "#     Compile and run C code against hardcoded test cases.\n",
    "#     :param file_path: Path to the C file (e.g., \"/path/to/student_solution.c\").\n",
    "#     :return: Dictionary with test case results.\n",
    "#     \"\"\"\n",
    "#     # Get the directory and file name\n",
    "#     directory = os.path.dirname(files/student_solution.c)\n",
    "#     file_name = os.path.basename(files/student_solution.c)\n",
    "#     executable_name = file_name.replace(\".c\", \"\")\n",
    "\n",
    "#     # Hardcoded test cases\n",
    "#     test_cases = [\n",
    "#         {\n",
    "#             \"input\": \"5\\n27 5 89 9 61\\n6 4 87 9 82 7 5\\n3 9 5 4 75 5 82 7\\n99 6 26 11 42 50 8\\n91 3 6 22 5 45 8 71 85\\n\",\n",
    "#             \"expected_output\": \"3 4 5 5 7 9 75 82\\n6 4 5 7 9 82 87\\n27 5 9 61 89\\n91 3 5 6 8 22 45 71 85\\n99 6 8 11 26 42 50\\n\"\n",
    "#         }\n",
    "#     ]\n",
    "\n",
    "#     try:\n",
    "#         # Compile the C code\n",
    "#         compile_cmd = [\"gcc\", file_name, \"-o\", executable_name]\n",
    "#         compile_process = subprocess.run(compile_cmd, cwd=directory, capture_output=True, text=True)\n",
    "\n",
    "#         # Check for compilation errors\n",
    "#         if compile_process.returncode != 0:\n",
    "#             return {\"status\": \"compilation_error\", \"details\": compile_process.stderr}\n",
    "\n",
    "#         # Prepare to run test cases\n",
    "#         test_results = {}\n",
    "#         for idx, test_case in enumerate(test_cases):\n",
    "#             input_data = test_case[\"input\"]\n",
    "#             expected_output = test_case[\"expected_output\"].strip()\n",
    "\n",
    "#             # Run the compiled executable with the input data\n",
    "#             run_cmd = [f\"./{executable_name}\"]\n",
    "#             run_process = subprocess.run(\n",
    "#                 run_cmd, cwd=directory, input=input_data, capture_output=True, text=True\n",
    "#             )\n",
    "#             actual_output = run_process.stdout.strip()\n",
    "\n",
    "#             # Compare the actual output with the expected output\n",
    "#             if actual_output == expected_output:\n",
    "#                 test_results[f\"test_case_{idx + 1}\"] = \"passed\"\n",
    "#             else:\n",
    "#                 test_results[f\"test_case_{idx + 1}\"] = {\n",
    "#                     \"status\": \"failed\",\n",
    "#                     \"expected\": expected_output,\n",
    "#                     \"actual\": actual_output,\n",
    "#                 }\n",
    "\n",
    "#         return {\"status\": \"success\", \"test_results\": test_results}\n",
    "#     except Exception as e:\n",
    "#         return {\"status\": \"error\", \"details\": str(e)}\n",
    "\n",
    "# # Example usage:\n",
    "# file_path = \"/data/files/student_solution.c\"\n",
    "# result = compile_and_run_c_code(file_path)\n",
    "# print(result)\n"
   ]
  },
  {
   "cell_type": "code",
   "execution_count": 30,
   "id": "420e7d27-4465-41b0-917d-2f3ce41a6cfd",
   "metadata": {},
   "outputs": [],
   "source": [
    "def extract_marks(evaluation):\n",
    "    sys_msg = SystemMessage(content=\"You are a helpful assistant tasked with extracting stepwise markss from the given evaluation.\")\n",
    "\n",
    "    # Prepare the human message containing the student code, model code, and rubric\n",
    "    human_msg = HumanMessage(content=f\"Here is a student's C code evaluation:\\n\\n{evaluation}. Return a list of marks functionality wise\")\n",
    "\n",
    "    # Update the state with the human message\n",
    "    state[\"messages\"].append(human_msg)\n",
    "    llm_for_extraction = ChatOpenAI(model=\"gpt-4o-mini\")\n",
    "    # Invoke the LLM using the system message and the state\n",
    "    extraction_response = llm_for_extraction.invoke([sys_msg] + state[\"messages\"])\n",
    "    \n",
    "    # Parse the AI response (assuming it returns the correct format directly)\n",
    "    return extraction_response\n",
    "\n",
    "def extract_marks_for_all_functions(evaluations):\n",
    "    marks=[]\n",
    "    marks = extract_marks(reevaluations)\n",
    "            \n",
    "    return marks\n",
    "    \n",
    "list_of_marks=json.loads(extract_marks_for_all_functions(evaluations).content.rstrip('```').lstrip('```json'))"
   ]
  },
  {
   "cell_type": "code",
   "execution_count": 31,
   "id": "4d3b2724-d774-4de1-a72b-67906a672001",
   "metadata": {},
   "outputs": [
    {
     "data": {
      "text/plain": [
       "[{'function_name': 'readData',\n",
       "  'function_rubric': 'Building the Binary Search Tree',\n",
       "  'marks': 8},\n",
       " {'function_name': 'sortLists',\n",
       "  'function_rubric': 'Sorting the Linked Lists',\n",
       "  'marks': 5},\n",
       " {'function_name': 'traverse',\n",
       "  'function_rubric': 'In-order Traversal and File Writing',\n",
       "  'marks': 10},\n",
       " {'function_name': 'main', 'function_rubric': 'Main Function', 'marks': 3},\n",
       " {'function_name': 'Code Quality and Style',\n",
       "  'function_rubric': 'Code Quality and Style',\n",
       "  'marks': 4},\n",
       " {'function_name': 'Adherence to Assignment Constraints',\n",
       "  'function_rubric': 'Adherence to Assignment Constraints',\n",
       "  'marks': 1}]"
      ]
     },
     "execution_count": 31,
     "metadata": {},
     "output_type": "execute_result"
    }
   ],
   "source": [
    "list_of_marks"
   ]
  },
  {
   "cell_type": "code",
   "execution_count": 32,
   "id": "52a15748-62cc-4163-ae01-05e71701d264",
   "metadata": {},
   "outputs": [
    {
     "data": {
      "text/plain": [
       "{'total_score': 31}"
      ]
     },
     "execution_count": 32,
     "metadata": {},
     "output_type": "execute_result"
    }
   ],
   "source": [
    "def sum_marks(list_of_marks):\n",
    "    sys_msg = SystemMessage(content=\"You are a helpful assistant who does maths as an expert\")\n",
    "\n",
    "    # Prepare the human message containing the student code, model code, and rubric\n",
    "    human_msg = HumanMessage(content=f\"Here is a list of marks:\\n\\n{list_of_marks}. Return the total score by adding all these marks in a json\")\n",
    "\n",
    "    # Update the state with the human message\n",
    "    state[\"messages\"].append(human_msg)\n",
    "    llm_for_extraction = ChatOpenAI(model=\"gpt-4o-mini\")\n",
    "    # Invoke the LLM using the system message and the state\n",
    "    extraction_response = llm_for_extraction.invoke([sys_msg] + state[\"messages\"])\n",
    "    \n",
    "    # Parse the AI response (assuming it returns the correct format directly)\n",
    "    return extraction_response\n",
    "\n",
    "def extract_total_marks(list_of_marks):\n",
    "    marks = sum_marks(list_of_marks)  \n",
    "    return marks\n",
    "    \n",
    "marks=json.loads(extract_total_marks(list_of_marks).content.rstrip('```').lstrip('```json'))\n",
    "marks"
   ]
  },
  {
   "cell_type": "code",
   "execution_count": 33,
   "id": "23c078d8",
   "metadata": {},
   "outputs": [
    {
     "data": {
      "text/plain": [
       "'# Comprehensive Evaluation Report\\n\\n## Overall Summary\\nThe evaluation of the provided functions indicates several areas requiring improvement, particularly in the implementation of data structures and algorithms. The total marks achieved are 31 out of a maximum of 70, reflecting significant deficiencies in multiple areas. The analysis reveals both common strengths and weaknesses across the various functions assessed. Below is a detailed breakdown of performance per functionality along with actionable suggestions for improvement.\\n\\n---\\n\\n### 1. Read Data\\n- **Marks:** 8/20\\n- **Comments:**\\n  - The function attempts to read from a file and create a Binary Search Tree (BST), but it lacks proper handling of the number of records and their corresponding data.\\n  - The BST construction is flawed; the logic to utilize the first integer in each line as the key is absent.\\n  - Adherence to BST properties is lacking, and there is no mechanism to ensure elements are inserted in the correct order.\\n  - Verification of accurate linked list insertion into BST nodes is incomplete, leading to problems with managing linked lists.\\n- **Suggestions:**\\n  - Ensure accurate reading of the number of records and maintain the structure of the BST.\\n  - Implement clear insertion logic that respects BST properties.\\n  - Modify the logic to create linked lists and insert them into the BST nodes accordingly.\\n\\n### 2. Sort Lists\\n- **Marks:** 5/10\\n- **Comments:**\\n  - The function lacks a proper sorting algorithm for the linked lists.\\n  - It fails to sort the lists as per specifications and does not demonstrate logical and efficient sorting.\\n  - Edge cases, such as handling empty lists or lists with a single node, are not addressed.\\n- **Suggestions:**\\n  - Choose an appropriate sorting algorithm (e.g., merge sort) and implement it for sorting the linked lists.\\n  - Implement checks for edge cases to ensure the algorithm correctly handles all possible linked list configurations.\\n\\n### 3. Traverse\\n- **Marks:** 10/20\\n- **Comments:**\\n  - The in-order traversal is partially implemented but does not conform to the expected output format.\\n  - The logic for outputting each linked list to the designated file is not structured correctly, failing to ensure that each list is printed on a new line.\\n  - Special cases, such as empty nodes, are not adequately handled.\\n- **Suggestions:**\\n  - Refine the traversal logic to guarantee correct output formatting, ensuring that each linked list is printed on a new line.\\n  - Include handling for empty lists or nodes during traversal.\\n\\n### 4. Main\\n- **Marks:** 3/10\\n- **Comments:**\\n  - The main function lacks a proper sequence for program execution.\\n  - It does not adequately drive the program through the processes of reading input, constructing the BST, sorting the lists, and performing in-order traversal.\\n- **Suggestions:**\\n  - Revise the main function to ensure it invokes the necessary functions in the correct order to achieve the desired outcome.\\n\\n### 5. Code Quality and Style\\n- **Marks:** 4/10\\n- **Comments:**\\n  - The code is marred by inconsistent spacing and indentation, hindering readability.\\n  - A lack of comments explaining the logic, especially in critical sections, is evident.\\n  - Some variable names are not meaningful or consistent, which detracts from code clarity.\\n- **Suggestions:**\\n  - Improve code indentation and spacing for enhanced readability.\\n  - Add comments to elucidate the logic, particularly in complex sections.\\n  - Use meaningful variable names that accurately reflect their purposes.\\n\\n### 6. Adherence to Assignment Constraints\\n- **Marks:** 1/10\\n- **Comments:**\\n  - Not all required functions have been correctly implemented, and some function names do not align with the specifications.\\n  - Functionality does not closely adhere to the problem description.\\n- **Suggestions:**\\n  - Ensure that all required functions are implemented with the exact names specified in the assignment.\\n\\n---\\n\\n## Final Recommendations\\nTo improve the overall quality of the code and ensure adherence to the assignment requirements, the following actions are recommended:\\n\\n1. **Revise Data Structures:** Focus on correctly implementing the BST and linked lists, ensuring proper insertion and management.\\n2. **Implement Sorting Logic:** Choose and apply a suitable sorting algorithm for linked lists, ensuring edge cases are handled effectively.\\n3. **Enhance Traversal Logic:** Ensure that the output format for traversal is correct and includes handling for special cases.\\n4. **Improve Code Quality:** Work on code readability through consistent formatting, meaningful variable naming, and comprehensive commenting.\\n5. **Adhere to Specifications:** Double-check the implementation of functions against the assignment guidelines to ensure all requirements are met.\\n\\nBy addressing these areas, the functionality and quality of the code can be significantly enhanced, leading to a better understanding of the concepts involved.'"
      ]
     },
     "execution_count": 33,
     "metadata": {},
     "output_type": "execute_result"
    }
   ],
   "source": [
    "def generate_comprehensive_report(evaluation_outputs: list, state: MessagesState):\n",
    "    # System message for the LLM to guide the report generation process\n",
    "    sys_msg = SystemMessage(content=\"You are a skilled assistant tasked with generating a comprehensive evaluation report based on multiple evaluation outputs. Consolidate markss, identify common strengths and weaknesses, and provide actionable suggestions for improvement. Ensure the report is well-organized and includes an overall summary.\")\n",
    "\n",
    "    # Prepare the human message with the combined evaluations\n",
    "    human_msg = HumanMessage(content=f\"Here is the final evaluation:\\n\\n{evaluation_outputs}\\n\\nGenerate a single comprehensive report for the student using the final evaluations including summary of marks, and detailed comments and suggestions for improvement on each functionality.\")\n",
    "\n",
    "    # Update the state with the human message\n",
    "    state[\"messages\"].append(human_msg)\n",
    "\n",
    "    # Invoke the LLM to generate the comprehensive report\n",
    "    llm_for_report = ChatOpenAI(model=\"gpt-4o-mini\")\n",
    "    report_response = llm_for_report.invoke([sys_msg] + state[\"messages\"])\n",
    "\n",
    "    # Return the generated report\n",
    "    return report_response\n",
    "\n",
    "report = generate_comprehensive_report(reevaluations, MessagesState(messages=[])).content\n",
    "report"
   ]
  },
  {
   "cell_type": "code",
   "execution_count": 36,
   "id": "353ceaaf-089a-4396-a460-1312e8f24400",
   "metadata": {},
   "outputs": [
    {
     "data": {
      "image/jpeg": "[encoded data removed]",
      "text/plain": [
       "<IPython.core.display.Image object>"
      ]
     },
     "metadata": {},
     "output_type": "display_data"
    }
   ],
   "source": [
    "\n",
    "from langgraph.graph import StateGraph, MessagesState, START, END\n",
    "from IPython.display import Image, display\n",
    "\n",
    "# Graph\n",
    "builder = StateGraph(MessagesState)\n",
    "\n",
    "# Define nodes: these do the work\n",
    "# builder.add_node(\"assistant\", assistant)\n",
    "# builder.add_node(\"tools\", ToolNode(tools))\n",
    "\n",
    "\n",
    "builder.add_node(\"Function Extraction\", extract_functions )\n",
    "builder.add_node(\"Rubric Extraction\", extract_rubric)\n",
    "builder.add_node(\"Initial Evaluation\", initial_evaluator)\n",
    "builder.add_node(\"Review Evaluation\", reevaluator)\n",
    "builder.add_node(\"Marks Extraction\", extract_marks_for_all_functions)\n",
    "builder.add_node(\"Total Marks\", sum_marks)\n",
    "builder.add_node(\"Report Generation\", sum_marks)\n",
    "\n",
    "builder.add_edge(START, \"Function Extraction\")\n",
    "\n",
    "builder.add_edge(\"Function Extraction\", \"Rubric Extraction\")\n",
    "\n",
    "builder.add_edge(\"Rubric Extraction\", \"Initial Evaluation\")\n",
    "\n",
    "builder.add_edge(\"Initial Evaluation\", \"Review Evaluation\")\n",
    "\n",
    "builder.add_edge(\"Review Evaluation\", \"Marks Extraction\")\n",
    "\n",
    "builder.add_edge(\"Marks Extraction\", \"Total Marks\")\n",
    "\n",
    "builder.add_edge(\"Total Marks\", \"Report Generation\")\n",
    "\n",
    "builder.add_edge(\"Report Generation\", END)\n",
    "\n",
    "# Define edges: these determine how the control flow moves\n",
    "# builder.add_edge(START, \"assistant\")\n",
    "# builder.add_conditional_edges(\n",
    "#     \"assistant\",\n",
    "#     # If the latest message (result) from assistant is a tool call -> tools_condition routes to tools\n",
    "#     # If the latest message (result) from assistant is a not a tool call -> tools_condition routes to END\n",
    "#     tools_condition,\n",
    "# )\n",
    "# builder.add_edge(\"tools\", \"assistant\")\n",
    "react_graph = builder.compile()\n",
    "\n",
    "# Show\n",
    "display(Image(react_graph.get_graph(xray=True).draw_mermaid_png()))"
   ]
  },
  {
   "cell_type": "code",
   "execution_count": null,
   "id": "f540dbd2-d967-4731-95ff-272c121717b4",
   "metadata": {},
   "outputs": [],
   "source": []
  }
 ],
 "metadata": {
  "kernelspec": {
   "display_name": "Python 3",
   "language": "python",
   "name": "python3"
  },
  "language_info": {
   "codemirror_mode": {
    "name": "ipython",
    "version": 3
   },
   "file_extension": ".py",
   "mimetype": "text/x-python",
   "name": "python",
   "nbconvert_exporter": "python",
   "pygments_lexer": "ipython3",
   "version": "3.10.11"
  }
 },
 "nbformat": 4,
 "nbformat_minor": 5
}
